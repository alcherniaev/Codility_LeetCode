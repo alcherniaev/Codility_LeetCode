{
 "cells": [
  {
   "cell_type": "code",
   "execution_count": 1,
   "metadata": {},
   "outputs": [
    {
     "data": {
      "text/html": [
       "<style>.container {width:98% !important; margin-left:1% !important; margin-right:auto !important;}</style>"
      ],
      "text/plain": [
       "<IPython.core.display.HTML object>"
      ]
     },
     "metadata": {},
     "output_type": "display_data"
    }
   ],
   "source": [
    "from IPython.core.display import display, HTML\n",
    "display(HTML(\"<style>.container {width:98% !important; margin-left:1% !important; margin-right:auto !important;}</style>\"))\n",
    "\n",
    "from IPython.core.interactiveshell import InteractiveShell\n",
    "InteractiveShell.ast_node_interactivity = 'all'"
   ]
  },
  {
   "cell_type": "markdown",
   "metadata": {},
   "source": [
    "## Nodes"
   ]
  },
  {
   "cell_type": "markdown",
   "metadata": {},
   "source": [
    "Nodes are the fundamental building blocks of many computer science data structures. They form the basis for linked lists, stacks, queues, trees, and more.\n",
    "\n",
    "An individual node contains data and links to other nodes. Each data structure adds additional constraints or behavior to these features to create the desired structure."
   ]
  },
  {
   "cell_type": "markdown",
   "metadata": {},
   "source": [
    "![alt text](imgs/nodes.png \"Title\")"
   ]
  },
  {
   "cell_type": "code",
   "execution_count": 18,
   "metadata": {},
   "outputs": [
    {
     "name": "stdout",
     "output_type": "stream",
     "text": [
      "enjoys spending time in movie lots\n",
      "has a penchant for hoarding snacks\n"
     ]
    }
   ],
   "source": [
    "class Node:\n",
    "  def __init__(self, value, next_node=None):\n",
    "    self.value = value\n",
    "    self.next_node = next_node\n",
    "    \n",
    "  def get_value(self):\n",
    "    return self.value\n",
    "  \n",
    "  def get_next_node(self):\n",
    "    return self.next_node\n",
    "  \n",
    "  def set_next_node(self, next_node):\n",
    "    self.next_node = next_node\n",
    "\n",
    "yacko = Node(\"likes to yak\")\n",
    "wacko = Node(\"has a penchant for hoarding snacks\")\n",
    "dot = Node(\"enjoys spending time in movie lots\")\n",
    "\n",
    "dot.set_next_node(wacko)\n",
    "yacko.set_next_node(dot)\n",
    "\n",
    "dots_data = yacko.get_next_node().get_value()\n",
    "wackos_data = dot.get_next_node().get_value()\n",
    "\n",
    "print(dots_data)\n",
    "print(wackos_data)"
   ]
  },
  {
   "cell_type": "markdown",
   "metadata": {},
   "source": [
    "## Linked List"
   ]
  },
  {
   "cell_type": "markdown",
   "metadata": {},
   "source": [
    "Implementing a LinkedList class to handle external operations on the list like adding and removing nodes\n",
    "\n",
    "* Are comprised of nodes\n",
    "* The nodes contain a link to the next node (and also the previous node for bidirectional linked lists)\n",
    "* Can be unidirectional or bidirectional\n",
    "* Are a basic data structure, and form the basis for many other data structures\n",
    "* Have a single head node, which serves as the first node in the list\n",
    "* Require some maintenance in order to add or remove nodes\n",
    "* The methods we used are an example and depend on the exact use case and/or programming language being used"
   ]
  },
  {
   "cell_type": "markdown",
   "metadata": {},
   "source": [
    "![alt text](imgs/linked_list.png \"Title\")"
   ]
  },
  {
   "cell_type": "code",
   "execution_count": 2,
   "metadata": {},
   "outputs": [],
   "source": [
    "class LinkedList:\n",
    "  def __init__(self, value=None):\n",
    "    self.head_node = Node(value)\n",
    "  \n",
    "  def get_head_node(self):\n",
    "    return self.head_node\n",
    "  \n",
    "  def insert_beginning(self, new_value):\n",
    "    new_node = Node(new_value)\n",
    "    new_node.set_next_node(self.head_node)\n",
    "    self.head_node = new_node\n",
    "    \n",
    "  def stringify_list(self):\n",
    "    string_list = \"\"\n",
    "    current_node = self.get_head_node()\n",
    "    while current_node:\n",
    "      if current_node.get_value() != None:\n",
    "        string_list += str(current_node.get_value()) + \"\\n\"\n",
    "      current_node = current_node.get_next_node()\n",
    "    return string_list\n",
    "  \n",
    "  def remove_node(self, value_to_remove):\n",
    "    current_node = self.get_head_node()\n",
    "    if current_node.get_value() == value_to_remove:\n",
    "      self.head_node = current_node.get_next_node()\n",
    "    else:\n",
    "      while current_node:\n",
    "        next_node = current_node.get_next_node()\n",
    "        if next_node.get_value() == value_to_remove:\n",
    "          current_node.set_next_node(next_node.get_next_node())\n",
    "          current_node = None\n",
    "        else:\n",
    "          current_node = next_node"
   ]
  },
  {
   "cell_type": "markdown",
   "metadata": {},
   "source": [
    "## Doubly Linked Lists"
   ]
  },
  {
   "cell_type": "markdown",
   "metadata": {},
   "source": [
    "Your browser history is another example of a doubly linked list. When you open your browser, the page that you land on is the head of your list. As you click on things and navigate to new pages, you are moving forward and adding to the tail of your list. If you ever want to go back to something you’ve already visited, you can use the “back” button to move backward through your list\n",
    "\n",
    "Implemented:\n",
    "* Using our Node class to hold the value and links between nodes\n",
    "* Implementing a DoublyLinkedList class to handle external operations on the list, like adding and removing nodes\n",
    "* Creating an instance of our list, and using the .stringify_list() method to track the changes we made"
   ]
  },
  {
   "cell_type": "markdown",
   "metadata": {},
   "source": [
    "![alt text](imgs/doubly_linked_list.png \"Title\")"
   ]
  },
  {
   "cell_type": "code",
   "execution_count": 1,
   "metadata": {},
   "outputs": [
    {
     "name": "stdout",
     "output_type": "stream",
     "text": [
      "Central Park\n",
      "Grand Central\n",
      "Times Square\n",
      "\n",
      "Central Park\n",
      "Grand Central\n",
      "Times Square\n",
      "Penn Station\n",
      "Wall Street\n",
      "Brooklyn Bridge\n",
      "\n",
      "Central Park\n",
      "Grand Central\n",
      "Penn Station\n",
      "Wall Street\n",
      "Brooklyn Bridge\n",
      "\n"
     ]
    }
   ],
   "source": [
    "class Node:\n",
    "  def __init__(self, value, next_node=None, prev_node=None):\n",
    "    self.value = value\n",
    "    self.next_node = next_node\n",
    "    self.prev_node = prev_node\n",
    "    \n",
    "  def set_next_node(self, next_node):\n",
    "    self.next_node = next_node\n",
    "    \n",
    "  def get_next_node(self):\n",
    "    return self.next_node\n",
    "\n",
    "  def set_prev_node(self, prev_node):\n",
    "    self.prev_node = prev_node\n",
    "    \n",
    "  def get_prev_node(self):\n",
    "    return self.prev_node\n",
    "  \n",
    "  def get_value(self):\n",
    "    return self.value\n",
    "\n",
    "\n",
    "class DoublyLinkedList:\n",
    "  def __init__(self):\n",
    "    self.head_node = None\n",
    "    self.tail_node = None\n",
    "  \n",
    "  def add_to_head(self, new_value):\n",
    "    new_head = Node(new_value)\n",
    "    current_head = self.head_node\n",
    "\n",
    "    if current_head != None:\n",
    "      current_head.set_prev_node(new_head)\n",
    "      new_head.set_next_node(current_head)\n",
    "\n",
    "    self.head_node = new_head\n",
    "\n",
    "    if self.tail_node == None:\n",
    "      self.tail_node = new_head\n",
    "\n",
    "  def add_to_tail(self, new_value):\n",
    "    new_tail = Node(new_value)\n",
    "    current_tail = self.tail_node\n",
    "\n",
    "    if current_tail != None:\n",
    "      current_tail.set_next_node(new_tail)\n",
    "      new_tail.set_prev_node(current_tail)\n",
    "\n",
    "    self.tail_node = new_tail\n",
    "\n",
    "    if self.head_node == None:\n",
    "      self.head_node = new_tail\n",
    "\n",
    "  def remove_head(self):\n",
    "    removed_head = self.head_node\n",
    "\n",
    "    if removed_head == None:\n",
    "      return None\n",
    "\n",
    "    self.head_node = removed_head.get_next_node()\n",
    "\n",
    "    if self.head_node != None:\n",
    "      self.head_node.set_prev_node(None)\n",
    "\n",
    "    if removed_head == self.tail_node:\n",
    "      self.remove_tail()\n",
    "\n",
    "    return removed_head.get_value()\n",
    "\n",
    "  def remove_tail(self):\n",
    "    removed_tail = self.tail_node\n",
    "\n",
    "    if removed_tail == None:\n",
    "      return None\n",
    "\n",
    "    self.tail_node = removed_tail.get_prev_node()\n",
    "\n",
    "    if self.tail_node != None:\n",
    "      self.tail_node.set_next_node(None)\n",
    "\n",
    "    if removed_tail == self.head_node:\n",
    "      self.remove_head()\n",
    "\n",
    "    return removed_tail.get_value()\n",
    "\n",
    "  def remove_by_value(self, value_to_remove):\n",
    "    node_to_remove = None\n",
    "    current_node = self.head_node\n",
    "\n",
    "    while current_node != None:\n",
    "      if current_node.get_value() == value_to_remove:\n",
    "        node_to_remove = current_node\n",
    "        break\n",
    "\n",
    "      current_node = current_node.get_next_node()\n",
    "\n",
    "    if node_to_remove == None:\n",
    "      return None\n",
    "\n",
    "    if node_to_remove == self.head_node:\n",
    "      self.remove_head()\n",
    "    elif node_to_remove == self.tail_node:\n",
    "      self.remove_tail()\n",
    "    else:\n",
    "      next_node = node_to_remove.get_next_node()\n",
    "      prev_node = node_to_remove.get_prev_node()\n",
    "      next_node.set_prev_node(prev_node)\n",
    "      prev_node.set_next_node(next_node)\n",
    "\n",
    "    return node_to_remove\n",
    "\n",
    "  def stringify_list(self):\n",
    "    string_list = \"\"\n",
    "    current_node = self.head_node\n",
    "    while current_node:\n",
    "      if current_node.get_value() != None:\n",
    "        string_list += str(current_node.get_value()) + \"\\n\"\n",
    "      current_node = current_node.get_next_node()\n",
    "    return string_list\n",
    "\n",
    "# Create subway line (example of usage linked list):\n",
    "subway = DoublyLinkedList()\n",
    "\n",
    "subway.add_to_head(\"Times Square\")\n",
    "subway.add_to_head(\"Grand Central\")\n",
    "subway.add_to_head(\"Central Park\")\n",
    "\n",
    "print(subway.stringify_list())\n",
    "\n",
    "subway.add_to_tail(\"Penn Station\")\n",
    "subway.add_to_tail(\"Wall Street\")\n",
    "subway.add_to_tail(\"Brooklyn Bridge\")\n",
    "\n",
    "print(subway.stringify_list())\n",
    "\n",
    "subway.remove_by_value(\"Times Square\")\n",
    "print(subway.stringify_list())"
   ]
  },
  {
   "cell_type": "markdown",
   "metadata": {},
   "source": [
    "## Linear Search"
   ]
  },
  {
   "cell_type": "markdown",
   "metadata": {},
   "source": [
    "The linear search, or sequential search, algorithm sequentially checks whether a given value is an element of a specified list by scanning the elements of a list one-by-one. It checks every item in the list in order from the beginning to end until it finds a target value.\n",
    "\n",
    "If it finds the target value in the list, the linear search algorithm stops and returns the position in the list corresponding to the target value. If it does not find the value, the linear search algorithm returns a message stating that the target value is not in the list."
   ]
  },
  {
   "cell_type": "markdown",
   "metadata": {},
   "source": [
    "* Linear search is a search algorithm that sequentially checks whether a given value is an element of a specified list by scanning the elements of a list one-by-one until it finds the target value.\n",
    "* The time complexity for linear search is O(N), but its performance is dependent on its input:\n",
    "    * Best Case: The algorithm requires only 1 comparison to find the target value in the first position of the list.\n",
    "    * Worst Case: The algorithm requires only n comparison to find the target value in the last position of the list or does not exist in the list.\n",
    "    * Average Case: The algorithm makes N/2 comparisons.\n",
    "* Linear search is a good choice for a search algorithm when:\n",
    "    * You expect the target value to be positioned near the beginning of the list.\n",
    "\n",
    "    * A search needs to be performed on an unsorted list because linear search traverses the entire list from beginning to end, regardless of its order."
   ]
  },
  {
   "cell_type": "code",
   "execution_count": 3,
   "metadata": {},
   "outputs": [
    {
     "name": "stdout",
     "output_type": "stream",
     "text": [
      "2\n"
     ]
    }
   ],
   "source": [
    "# A list of the ingredients for tuna sushi\n",
    "recipe = [\"nori\", \"tuna\", \"soy sauce\", \"sushi rice\"]\n",
    "target_ingredient = \"soy sauce\"\n",
    "\n",
    "def linear_search(search_list, target_value):\n",
    "  for idx in range(len(search_list)):\n",
    "    if search_list[idx] == target_value:\n",
    "      return idx\n",
    "  raise ValueError(f\"{target_value} not in list\")\n",
    "\n",
    "print(linear_search(recipe, target_ingredient))"
   ]
  },
  {
   "cell_type": "markdown",
   "metadata": {},
   "source": [
    "## Binary Search"
   ]
  },
  {
   "cell_type": "markdown",
   "metadata": {},
   "source": [
    "In each iteration, we are cutting the list in half. The time complexity is O(log N).\n",
    "A sorted list of 64 elements will take at most log2(64) = 6 comparisons."
   ]
  },
  {
   "cell_type": "code",
   "execution_count": 11,
   "metadata": {},
   "outputs": [
    {
     "name": "stdout",
     "output_type": "stream",
     "text": [
      "4\n",
      "Value not in list\n"
     ]
    }
   ],
   "source": [
    "def binary_search(sorted_list, target):\n",
    "  left_pointer = 0\n",
    "  right_pointer = len(sorted_list)\n",
    "  \n",
    "  while left_pointer < right_pointer:\n",
    "    # calculate the middle index using the two pointers\n",
    "    mid_idx = (left_pointer+right_pointer)//2\n",
    "    mid_val = sorted_list[mid_idx]\n",
    "    if mid_val == target:\n",
    "      return mid_idx\n",
    "    if target < mid_val:\n",
    "      # set the right_pointer to the appropriate value\n",
    "      right_pointer = mid_idx\n",
    "    if target > mid_val:\n",
    "      # set the left_pointer to the appropriate value\n",
    "      left_pointer = mid_idx+1\n",
    "  \n",
    "  return \"Value not in list\"\n",
    "\n",
    "# test cases\n",
    "print(binary_search([5,6,7,8,9], 9))\n",
    "print(binary_search([5,6,7,8,9], 10))"
   ]
  },
  {
   "cell_type": "markdown",
   "metadata": {},
   "source": [
    "## Queues"
   ]
  },
  {
   "cell_type": "markdown",
   "metadata": {},
   "source": [
    "A queue is a data structure which contains an ordered set of data.\n",
    "\n",
    "Queues provide three methods for interaction:\n",
    "\n",
    "* Enqueue - adds data to the “back” or end of the queue\n",
    "* Dequeue - provides and removes data from the “front” or beginning of the queue\n",
    "* Peek - reveals data from the “front” of the queue without removing it"
   ]
  },
  {
   "cell_type": "markdown",
   "metadata": {},
   "source": [
    "![alt text](imgs/queues.png \"Title\")"
   ]
  },
  {
   "cell_type": "code",
   "execution_count": 19,
   "metadata": {},
   "outputs": [
    {
     "name": "stdout",
     "output_type": "stream",
     "text": [
      "Adding some guy with a mustache to the queue!\n",
      "Removing some guy with a mustache from the queue!\n"
     ]
    },
    {
     "data": {
      "text/plain": [
       "'some guy with a mustache'"
      ]
     },
     "execution_count": 19,
     "metadata": {},
     "output_type": "execute_result"
    }
   ],
   "source": [
    "class Queue:\n",
    "  def __init__(self, max_size=None):\n",
    "    self.head = None\n",
    "    self.tail = None\n",
    "    self.max_size = max_size\n",
    "    self.size = 0\n",
    "    \n",
    "  def enqueue(self, value):\n",
    "    if self.has_space():\n",
    "      item_to_add = Node(value)\n",
    "      print(\"Adding \" + str(item_to_add.get_value()) + \" to the queue!\")\n",
    "      if self.is_empty():\n",
    "        self.head = item_to_add\n",
    "        self.tail = item_to_add\n",
    "      else:\n",
    "        self.tail.set_next_node(item_to_add)\n",
    "        self.tail = item_to_add\n",
    "      self.size += 1\n",
    "    else:\n",
    "      print(\"Sorry, no more room!\")\n",
    "      \n",
    "  # Add your dequeue method below:    \n",
    "  def dequeue(self):\n",
    "    if self.get_size() > 0:\n",
    "      item_to_remove = self.head\n",
    "      print(\"Removing \" + str(item_to_remove.get_value()) + \" from the queue!\")\n",
    "      if self.get_size() == 1:\n",
    "        self.head = None\n",
    "        self.tail = None\n",
    "      else:\n",
    "        self.head = self.head.get_next_node()\n",
    "      self.size -= 1\n",
    "      return item_to_remove.get_value()\n",
    "    else:\n",
    "      print(\"This queue is totally empty!\")\n",
    "  \n",
    "  def peek(self):\n",
    "    if self.is_empty():\n",
    "      print(\"Nothing to see here!\")\n",
    "    else:\n",
    "      return self.head.get_value()\n",
    "  \n",
    "  def get_size(self):\n",
    "    return self.size\n",
    "  \n",
    "  def has_space(self):\n",
    "    if self.max_size == None:\n",
    "      return True\n",
    "    else:\n",
    "      return self.max_size > self.get_size()\n",
    "    \n",
    "  def is_empty(self):\n",
    "    return self.size == 0\n",
    "\n",
    "q = Queue()\n",
    "q.enqueue(\"some guy with a mustache\")\n",
    "q.dequeue()"
   ]
  },
  {
   "cell_type": "markdown",
   "metadata": {},
   "source": [
    "# Stack "
   ]
  },
  {
   "cell_type": "markdown",
   "metadata": {},
   "source": [
    "A stack is a data structure which contains an ordered set of data.\n",
    "\n",
    "Stacks provide three methods for interaction:\n",
    "\n",
    "* Push - adds data to the “top” of the stack\n",
    "* Pop - returns and removes data from the “top” of the stack\n",
    "* Peek - returns data from the “top” of the stack without removing it\n",
    "\n",
    "Stacks can be implemented using a linked list as the underlying data structure because it’s more efficient than a list or array."
   ]
  },
  {
   "cell_type": "markdown",
   "metadata": {},
   "source": [
    "![alt text](imgs/stack.png \"Title\")"
   ]
  },
  {
   "cell_type": "code",
   "execution_count": 21,
   "metadata": {},
   "outputs": [
    {
     "name": "stdout",
     "output_type": "stream",
     "text": [
      "Adding pizza #1 to the pizza stack!\n",
      "Adding pizza #2 to the pizza stack!\n",
      "Adding pizza #3 to the pizza stack!\n",
      "Adding pizza #4 to the pizza stack!\n",
      "Adding pizza #5 to the pizza stack!\n",
      "Adding pizza #6 to the pizza stack!\n",
      "No room for pizza #7!\n",
      "The first pizza to deliver is pizza #6\n",
      "Delivering pizza #6\n"
     ]
    },
    {
     "data": {
      "text/plain": [
       "'pizza #6'"
      ]
     },
     "execution_count": 21,
     "metadata": {},
     "output_type": "execute_result"
    }
   ],
   "source": [
    "class Stack:\n",
    "  def __init__(self, limit=1000):\n",
    "    self.top_item = None\n",
    "    self.size = 0\n",
    "    self.limit = limit\n",
    "  \n",
    "  def push(self, value):\n",
    "    if self.has_space():\n",
    "      item = Node(value)\n",
    "      item.set_next_node(self.top_item)\n",
    "      self.top_item = item\n",
    "      self.size += 1\n",
    "      print(\"Adding {} to the pizza stack!\".format(value))\n",
    "    else:\n",
    "      print(\"No room for {}!\".format(value))\n",
    "\n",
    "  def pop(self):\n",
    "    if not self.is_empty():\n",
    "      item_to_remove = self.top_item\n",
    "      self.top_item = item_to_remove.get_next_node()\n",
    "      self.size -= 1\n",
    "      print(\"Delivering \" + item_to_remove.get_value())\n",
    "      return item_to_remove.get_value()\n",
    "    print(\"All out of pizza.\")\n",
    "\n",
    "  def peek(self):\n",
    "    if not self.is_empty():\n",
    "      return self.top_item.get_value()\n",
    "    print(\"Nothing to see here!\")\n",
    "\n",
    "  def has_space(self):\n",
    "    return self.limit > self.size\n",
    "\n",
    "  def is_empty(self):\n",
    "    return self.size == 0\n",
    "  \n",
    "# Defining an empty pizza stack\n",
    "pizza_stack = Stack(6)\n",
    "# Adding pizzas as they are ready until we have \n",
    "pizza_stack.push(\"pizza #1\")\n",
    "pizza_stack.push(\"pizza #2\")\n",
    "pizza_stack.push(\"pizza #3\")\n",
    "pizza_stack.push(\"pizza #4\")\n",
    "pizza_stack.push(\"pizza #5\")\n",
    "pizza_stack.push(\"pizza #6\")\n",
    "\n",
    "pizza_stack.push(\"pizza #7\")\n",
    "\n",
    "# Delivering pizzas from the top of the stack down\n",
    "print(\"The first pizza to deliver is \" + pizza_stack.peek())\n",
    "pizza_stack.pop()"
   ]
  }
 ],
 "metadata": {
  "kernelspec": {
   "display_name": "Python 3",
   "language": "python",
   "name": "python3"
  },
  "language_info": {
   "codemirror_mode": {
    "name": "ipython",
    "version": 3
   },
   "file_extension": ".py",
   "mimetype": "text/x-python",
   "name": "python",
   "nbconvert_exporter": "python",
   "pygments_lexer": "ipython3",
   "version": "3.8.6"
  }
 },
 "nbformat": 4,
 "nbformat_minor": 4
}

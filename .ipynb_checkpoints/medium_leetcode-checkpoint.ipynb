{
 "cells": [
  {
   "cell_type": "markdown",
   "metadata": {},
   "source": [
    "## 1769. Minimum Number of Operations to Move All Balls to Each Box\n",
    "\n",
    "You have n boxes. You are given a binary string boxes of length n, where boxes[i] is '0' if the ith box is empty, and '1' if it contains one ball.\n",
    "In one operation, you can move one ball from a box to an adjacent box. Box i is adjacent to box j if abs(i - j) == 1. Note that after doing so, there may be more than one ball in some boxes.\n",
    "Return an array answer of size n, where answer[i] is the minimum number of operations needed to move all the balls to the ith box.\n",
    "Each answer[i] is calculated considering the initial state of the boxes.\n",
    " \n",
    "\n",
    "Example 1:\n",
    "\n",
    "Input: boxes = \"110\"\n",
    "\n",
    "Output: [1,1,3]\n",
    "\n",
    "Explanation: The answer for each box is as follows:\n",
    "\n",
    "1) First box: you will have to move one ball from the second box to the first box in one operation.\n",
    "2) Second box: you will have to move one ball from the first box to the second box in one operation.\n",
    "3) Third box: you will have to move one ball from the first box to the third box in two operations, and move one ball from the second box to the third box in one operation."
   ]
  },
  {
   "cell_type": "code",
   "execution_count": 11,
   "metadata": {},
   "outputs": [],
   "source": [
    "# faster than 100% of Python submissions\n",
    "\n",
    "def minOperations(boxes):\n",
    "    acc = []\n",
    "    for i,n in enumerate(boxes):\n",
    "        if n == '1':\n",
    "          acc.append(i)\n",
    "    output_ = []\n",
    "    for i in range(len(boxes)):\n",
    "        output_.append(sum(abs(i-index) for index in acc))\n",
    "    return output_\n",
    "        \n"
   ]
  },
  {
   "cell_type": "code",
   "execution_count": 12,
   "metadata": {},
   "outputs": [
    {
     "data": {
      "text/plain": [
       "[1, 1, 3]"
      ]
     },
     "execution_count": 12,
     "metadata": {},
     "output_type": "execute_result"
    }
   ],
   "source": [
    "minOperations(\"110\")"
   ]
  },
  {
   "cell_type": "code",
   "execution_count": 13,
   "metadata": {},
   "outputs": [
    {
     "data": {
      "text/plain": [
       "[11, 8, 5, 4, 3, 4]"
      ]
     },
     "execution_count": 13,
     "metadata": {},
     "output_type": "execute_result"
    }
   ],
   "source": [
    "minOperations(\"001011\")"
   ]
  },
  {
   "cell_type": "markdown",
   "metadata": {},
   "source": [
    "## 1476. Subrectangle Queries\n",
    "\n",
    "Implement the class SubrectangleQueries which receives a rows x cols rectangle as a matrix of integers in the constructor and supports two methods:\n",
    "\n",
    "1. updateSubrectangle(int row1, int col1, int row2, int col2, int newValue)\n",
    "\n",
    "Updates all values with newValue in the subrectangle whose upper left coordinate is (row1,col1) and bottom right coordinate is (row2,col2).\n",
    "2. getValue(int row, int col)\n",
    "\n",
    "Returns the current value of the coordinate (row,col) from the rectangle.\n",
    " \n",
    "\n",
    "Example 1:\n",
    "\n",
    "\n",
    "Input\n",
    "\n",
    "[\"SubrectangleQueries\",\"getValue\",\"updateSubrectangle\",\"getValue\",\"getValue\",\"updateSubrectangle\",\"getValue\",\"getValue\"]\n",
    "[[[[1,2,1],[4,3,4],[3,2,1],[1,1,1]]],[0,2],[0,0,3,2,5],[0,2],[3,1],[3,0,3,2,10],[3,1],[0,2]]\n",
    "\n",
    "Output\n",
    "\n",
    "\n",
    "[null,1,null,5,5,null,10,5]\n",
    "\n",
    "Explanation\n",
    "\n",
    "SubrectangleQueries subrectangleQueries = new SubrectangleQueries([[1,2,1],[4,3,4],[3,2,1],[1,1,1]]);  \n",
    "// The initial rectangle (4x3) looks like:\n",
    "// 1 2 1\n",
    "// 4 3 4\n",
    "// 3 2 1\n",
    "// 1 1 1\n",
    "subrectangleQueries.getValue(0, 2); // return 1\n",
    "subrectangleQueries.updateSubrectangle(0, 0, 3, 2, 5);\n",
    "// After this update the rectangle looks like:\n",
    "// 5 5 5\n",
    "// 5 5 5\n",
    "// 5 5 5\n",
    "// 5 5 5 \n",
    "subrectangleQueries.getValue(0, 2); // return 5\n",
    "subrectangleQueries.getValue(3, 1); // return 5\n",
    "subrectangleQueries.updateSubrectangle(3, 0, 3, 2, 10);\n",
    "// After this update the rectangle looks like:\n",
    "// 5   5   5\n",
    "// 5   5   5\n",
    "// 5   5   5\n",
    "// 10  10  10 \n",
    "subrectangleQueries.getValue(3, 1); // return 10\n",
    "subrectangleQueries.getValue(0, 2); // return 5"
   ]
  },
  {
   "cell_type": "code",
   "execution_count": 4,
   "metadata": {},
   "outputs": [],
   "source": [
    "# may be improved by dict\n",
    "class SubrectangleQueries:\n",
    "\n",
    "    def __init__(self, rectangle):\n",
    "        self.rectangle = rectangle\n",
    "\n",
    "    def updateSubrectangle(self, row1, col1, row2, col2, newValue):\n",
    "        for i in range(row1, row2+1):\n",
    "            for j in range (col1, col2+1):\n",
    "                self.rectangle[i][j] = newValue\n",
    "\n",
    "    def getValue(self, row, col):\n",
    "        return self.rectangle[row][col]"
   ]
  },
  {
   "cell_type": "markdown",
   "metadata": {},
   "source": [
    "## 1689. Partitioning Into Minimum Number Of Deci-Binary Numbers\n",
    "\n",
    "Share\n",
    "A decimal number is called deci-binary if each of its digits is either 0 or 1 without any leading zeros. For example, 101 and 1100 are deci-binary, while 112 and 3001 are not.\n",
    "\n",
    "Given a string n that represents a positive decimal integer, return the minimum number of positive deci-binary numbers needed so that they sum up to n.\n",
    "\n",
    "Example 1:\n",
    "\n",
    "Input: n = \"32\"\n",
    "Output: 3\n",
    "Explanation: 10 + 11 + 11 = 32"
   ]
  },
  {
   "cell_type": "code",
   "execution_count": 15,
   "metadata": {},
   "outputs": [],
   "source": [
    "# As to sum up deci-binary numbers to a given value n \n",
    "# we need to only look for the maxm integer in the string \n",
    "# as only that number will determine the number of minimum \n",
    "# one's needed to make that string and rest all digits can be adjusted accordingly\n",
    "\n",
    "def minPartitions(n: str) -> int:\n",
    "    max_ = 0\n",
    "    for i in list(set(n)):\n",
    "        if int(i) > max_:\n",
    "            max_ = int(i)\n",
    "    return max_"
   ]
  },
  {
   "cell_type": "code",
   "execution_count": 16,
   "metadata": {},
   "outputs": [
    {
     "data": {
      "text/plain": [
       "7"
      ]
     },
     "execution_count": 16,
     "metadata": {},
     "output_type": "execute_result"
    }
   ],
   "source": [
    "minPartitions(\"11177111171\")"
   ]
  },
  {
   "cell_type": "markdown",
   "metadata": {},
   "source": [
    "## 1769. Minimum Number of Operations to Move All Balls to Each Box\n"
   ]
  },
  {
   "cell_type": "markdown",
   "metadata": {},
   "source": [
    "You have n boxes. You are given a binary string boxes of length n, where boxes[i] is '0' if the ith box is empty, and '1' if it contains one ball.\n",
    "\n",
    "In one operation, you can move one ball from a box to an adjacent box. Box i is adjacent to box j if abs(i - j) == 1. Note that after doing so, there may be more than one ball in some boxes.\n",
    "\n",
    "Return an array answer of size n, where answer[i] is the minimum number of operations needed to move all the balls to the ith box.\n",
    "\n",
    "Each answer[i] is calculated considering the initial state of the boxes.\n",
    "\n",
    "Example 1:\n",
    "\n",
    "Input: boxes = \"110\"\n",
    "    \n",
    "Output: [1,1,3]\n",
    "    \n",
    "Explanation: The answer for each box is as follows:\n",
    "        \n",
    "1) First box: you will have to move one ball from the second box to the first box in one operation.\n",
    "2) Second box: you will have to move one ball from the first box to the second box in one operation.\n",
    "3) Third box: you will have to move one ball from the first box to the third box in two operations, and move one ball from the second box to the third box in one operation."
   ]
  },
  {
   "cell_type": "code",
   "execution_count": 6,
   "metadata": {},
   "outputs": [],
   "source": [
    "def minOperations(boxes):\n",
    "    acc = []\n",
    "    for i,n in enumerate(boxes):\n",
    "        if n == '1':\n",
    "            acc.append(i)\n",
    "    output_ = []\n",
    "    for i in range(len(boxes)):\n",
    "        output_.append(sum(abs(i - index) for index in acc))\n",
    "    return output_"
   ]
  },
  {
   "cell_type": "code",
   "execution_count": 7,
   "metadata": {},
   "outputs": [
    {
     "data": {
      "text/plain": [
       "[1, 1, 3]"
      ]
     },
     "execution_count": 7,
     "metadata": {},
     "output_type": "execute_result"
    }
   ],
   "source": [
    "minOperations(\"110\")"
   ]
  },
  {
   "cell_type": "markdown",
   "metadata": {},
   "source": [
    "## 1791. Find Center of Star Graph\n",
    "\n",
    "There is an undirected star graph consisting of n nodes labeled from 1 to n. A star graph is a graph where there is one center node and exactly n - 1 edges that connect the center node with every other node.\n",
    "\n",
    "You are given a 2D integer array edges where each edges[i] = [ui, vi] indicates that there is an edge between the nodes ui and vi. Return the center of the given star graph.\n",
    "\n",
    "Input: edges = [[1,2],[2,3],[4,2]]\n",
    "\n",
    "Output: 2\n",
    "\n",
    "Explanation: As shown in the figure above, node 2 is connected to every other node, so 2 is the center."
   ]
  },
  {
   "cell_type": "code",
   "execution_count": 8,
   "metadata": {},
   "outputs": [],
   "source": [
    "def findCenter(edges):\n",
    "    return max(edges[0], key=edges[1].count)  "
   ]
  },
  {
   "cell_type": "code",
   "execution_count": 9,
   "metadata": {},
   "outputs": [
    {
     "data": {
      "text/plain": [
       "2"
      ]
     },
     "execution_count": 9,
     "metadata": {},
     "output_type": "execute_result"
    }
   ],
   "source": [
    "findCenter([[1,2],[2,3],[4,2]])"
   ]
  },
  {
   "cell_type": "markdown",
   "metadata": {},
   "source": [
    "## 807. Max Increase to Keep City Skyline (medium)\n",
    "\n",
    "\n",
    "In a 2 dimensional array grid, each value grid[i][j] represents the height of a building located there. We are allowed to increase the height of any number of buildings, by any amount (the amounts can be different for different buildings). Height 0 is considered to be a building as well. \n",
    "\n",
    "At the end, the \"skyline\" when viewed from all four directions of the grid, i.e. top, bottom, left, and right, must be the same as the skyline of the original grid. A city's skyline is the outer contour of the rectangles formed by all the buildings when viewed from a distance. See the following example.\n",
    "\n",
    "What is the maximum total sum that the height of the buildings can be increased?\n",
    "\n",
    "Example:\n",
    "\n",
    "Input: grid = [[3,0,8,4],[2,4,5,7],[9,2,6,3],[0,3,1,0]]\n",
    "Output: 35\n",
    "\n",
    "Explanation:\n",
    "\n",
    "The grid is:\n",
    "\n",
    "[ \n",
    "  [3, 0, 8, 4], \n",
    "\n",
    "  [2, 4, 5, 7],\n",
    "  \n",
    "  [9, 2, 6, 3],\n",
    "  \n",
    "  [0, 3, 1, 0] ]\n",
    "\n",
    "The skyline viewed from top or bottom is: [9, 4, 8, 7]\n",
    "The skyline viewed from left or right is: [8, 7, 9, 3]\n",
    "\n",
    "The grid after increasing the height of buildings without affecting skylines is:\n",
    "\n",
    "    gridNew = [[8, 4, 8, 7],\n",
    "\n",
    "            [7, 4, 7, 7],\n",
    "            \n",
    "            [9, 4, 8, 7],\n",
    "            \n",
    "            [3, 3, 3, 3] ]\n",
    "\n"
   ]
  },
  {
   "cell_type": "code",
   "execution_count": 10,
   "metadata": {},
   "outputs": [],
   "source": [
    "def maxIncreaseKeepingSkyline(grid) -> int:\n",
    "    max_row = [max(row) for row in grid]\n",
    "    max_col = [max(col) for col in zip(*grid)]\n",
    "\n",
    "    max_increased_sum = 0\n",
    "    for i in range(len(grid)):\n",
    "        max_increased_sum += min(max_row[i], max_col[i])\n",
    "    return max_increased_sum\n",
    "        "
   ]
  },
  {
   "cell_type": "code",
   "execution_count": 11,
   "metadata": {},
   "outputs": [
    {
     "data": {
      "text/plain": [
       "23"
      ]
     },
     "execution_count": 11,
     "metadata": {},
     "output_type": "execute_result"
    }
   ],
   "source": [
    "maxIncreaseKeepingSkyline([[3,0,8,4],[2,4,5,7],[9,2,6,3],[0,3,1,0]])"
   ]
  },
  {
   "cell_type": "code",
   "execution_count": 12,
   "metadata": {},
   "outputs": [],
   "source": [
    "def maxIncreaseKeepingSkyline(grid) -> int:\n",
    "    max_row = [max(row) for row in grid]\n",
    "    max_col = [max(col) for col in zip(*grid)]\n",
    "\n",
    "    max_increased_sum = 0\n",
    "    for i in range(len(grid)):\n",
    "        for j in range(len(grid[0])):\n",
    "            max_increased_sum += min(max_row[i], max_col[j]) - grid[i][j]\n",
    "            print(max_row[i])\n",
    "            print(max_col[j])\n",
    "            print(grid[i][j])\n",
    "            print(\"****\")\n",
    "    print(max_row)\n",
    "    print(max_col)\n",
    "    return max_increased_sum"
   ]
  },
  {
   "cell_type": "code",
   "execution_count": 13,
   "metadata": {},
   "outputs": [
    {
     "name": "stdout",
     "output_type": "stream",
     "text": [
      "8\n",
      "9\n",
      "3\n",
      "****\n",
      "8\n",
      "4\n",
      "0\n",
      "****\n",
      "8\n",
      "8\n",
      "8\n",
      "****\n",
      "8\n",
      "7\n",
      "4\n",
      "****\n",
      "7\n",
      "9\n",
      "2\n",
      "****\n",
      "7\n",
      "4\n",
      "4\n",
      "****\n",
      "7\n",
      "8\n",
      "5\n",
      "****\n",
      "7\n",
      "7\n",
      "7\n",
      "****\n",
      "9\n",
      "9\n",
      "9\n",
      "****\n",
      "9\n",
      "4\n",
      "2\n",
      "****\n",
      "9\n",
      "8\n",
      "6\n",
      "****\n",
      "9\n",
      "7\n",
      "3\n",
      "****\n",
      "3\n",
      "9\n",
      "0\n",
      "****\n",
      "3\n",
      "4\n",
      "3\n",
      "****\n",
      "3\n",
      "8\n",
      "1\n",
      "****\n",
      "3\n",
      "7\n",
      "0\n",
      "****\n",
      "[8, 7, 9, 3]\n",
      "[9, 4, 8, 7]\n"
     ]
    },
    {
     "data": {
      "text/plain": [
       "35"
      ]
     },
     "execution_count": 13,
     "metadata": {},
     "output_type": "execute_result"
    }
   ],
   "source": [
    "maxIncreaseKeepingSkyline([[3,0,8,4],[2,4,5,7],[9,2,6,3],[0,3,1,0]])"
   ]
  },
  {
   "cell_type": "markdown",
   "metadata": {},
   "source": [
    "## 46. Permutations\n",
    "\n",
    "Given an array nums of distinct integers, return all the possible permutations. You can return the answer in any order.\n",
    "\n",
    "\n",
    "Example 1:\n",
    "\n",
    "Input: nums = [1,2,3]\n",
    "\n",
    "Output: [[1,2,3],[1,3,2],[2,1,3],[2,3,1],[3,1,2],[3,2,1]]"
   ]
  },
  {
   "cell_type": "code",
   "execution_count": 15,
   "metadata": {},
   "outputs": [
    {
     "data": {
      "text/plain": [
       "[(1, 2, 3), (1, 3, 2), (2, 1, 3), (2, 3, 1), (3, 1, 2), (3, 2, 1)]"
      ]
     },
     "execution_count": 15,
     "metadata": {},
     "output_type": "execute_result"
    }
   ],
   "source": [
    "from itertools import permutations\n",
    "\n",
    "def permute(nums):\n",
    "    return list(permutations(nums))\n",
    "\n",
    "permute([1,2,3])\n"
   ]
  },
  {
   "cell_type": "markdown",
   "metadata": {},
   "source": [
    "## 189. Rotate Array"
   ]
  },
  {
   "cell_type": "markdown",
   "metadata": {},
   "source": [
    "Given an array, rotate the array to the right by k steps, where k is non-negative.\n",
    "\n",
    " \n",
    "\n",
    "Example 1:  \n",
    "\n",
    "Input: nums = [1,2,3,4,5,6,7], k = 3  \n",
    "Output: [5,6,7,1,2,3,4]  \n",
    "Explanation:  \n",
    "rotate 1 steps to the right: [7,1,2,3,4,5,6]  \n",
    "rotate 2 steps to the right: [6,7,1,2,3,4,5]  \n",
    "rotate 3 steps to the right: [5,6,7,1,2,3,4]  "
   ]
  },
  {
   "cell_type": "code",
   "execution_count": 1,
   "metadata": {},
   "outputs": [
    {
     "data": {
      "text/plain": [
       "3"
      ]
     },
     "execution_count": 1,
     "metadata": {},
     "output_type": "execute_result"
    }
   ],
   "source": [
    "3%5\n",
    "\"\"\"\n",
    "p = k % len(nums) in case if k will be more, than len of nums.\n",
    "if len = 5, k = 6 --> we really need to rotate only 1 step\n",
    "\"\"\""
   ]
  },
  {
   "cell_type": "code",
   "execution_count": 5,
   "metadata": {},
   "outputs": [],
   "source": [
    "#nums[:] --> inplace, while without [:] create new array\n",
    "\n",
    "def rotate(nums, k):\n",
    "    \"\"\"\n",
    "    Do not return anything, modify nums in-place instead.\n",
    "    \"\"\"\n",
    "    p = k % len(nums)\n",
    "    nums[:] = nums[-p:] + nums[:-p]\n",
    "    return nums #don't need return at leetcode"
   ]
  },
  {
   "cell_type": "code",
   "execution_count": 6,
   "metadata": {},
   "outputs": [
    {
     "data": {
      "text/plain": [
       "[5, 6, 7, 1, 2, 3, 4]"
      ]
     },
     "execution_count": 6,
     "metadata": {},
     "output_type": "execute_result"
    }
   ],
   "source": [
    "rotate(nums = [1,2,3,4,5,6,7], k = 3)"
   ]
  },
  {
   "cell_type": "markdown",
   "metadata": {},
   "source": [
    "## 19. Remove Nth Node From End of List"
   ]
  },
  {
   "cell_type": "markdown",
   "metadata": {},
   "source": [
    "https://leetcode.com/problems/remove-nth-node-from-end-of-list/  \n",
    "Given the head of a linked list, remove the nth node from the end of the list and return its head.\n",
    "\n",
    "Example 1:\n",
    "\n",
    "Input: head = [1,2,3,4,5], n = 2  \n",
    "Output: [1,2,3,5]"
   ]
  },
  {
   "cell_type": "markdown",
   "metadata": {},
   "source": [
    "## 3. Longest Substring Without Repeating Characters"
   ]
  },
  {
   "cell_type": "markdown",
   "metadata": {},
   "source": [
    "https://leetcode.com/problems/longest-substring-without-repeating-characters/  \n",
    "\n",
    "Given a string s, find the length of the longest substring without repeating characters.\n",
    "\n",
    "Example 1:\n",
    "\n",
    "Input: s = \"abcabcbb\"  \n",
    "Output: 3  \n",
    "Explanation: The answer is \"abc\", with the length of 3.  \n",
    "Example 2:\n",
    "\n",
    "Input: s = \"bbbbb\"  \n",
    "Output: 1  \n",
    "Explanation: The answer is \"b\", with the length of 1.  "
   ]
  },
  {
   "cell_type": "code",
   "execution_count": 31,
   "metadata": {},
   "outputs": [],
   "source": [
    "def lengthOfLongestSubstring(s: str) -> int:\n",
    "    lst = []\n",
    "    max_len_final = 0\n",
    "    max_len_cur = 0\n",
    "    for i in range(len(s)):\n",
    "        print(f\"i = {i}\")\n",
    "        if s[i] in lst:\n",
    "            max_len_cur = len(lst)\n",
    "            if max_len_cur > max_len_final: \n",
    "                max_len_final = max_len_cur\n",
    "            print(f\"max_len = {max_len_final}\")\n",
    "            print(f\"lst = {lst}\")\n",
    "            lst = [s[i]]\n",
    "            print(\"lst = []\")\n",
    "            \n",
    "        else: \n",
    "            lst.append(s[i])\n",
    "            print(f\"lst.append({s[i]})\")\n",
    "            print(f\"lst = {lst}\")\n",
    "    return (max_len_final, len(lst))[max_len_final < len(lst)]"
   ]
  },
  {
   "cell_type": "code",
   "execution_count": 32,
   "metadata": {},
   "outputs": [
    {
     "name": "stdout",
     "output_type": "stream",
     "text": [
      "i = 0\n",
      "lst.append(d)\n",
      "lst = ['d']\n",
      "i = 1\n",
      "lst.append(v)\n",
      "lst = ['d', 'v']\n",
      "i = 2\n",
      "max_len = 2\n",
      "lst = ['d', 'v']\n",
      "lst = []\n",
      "i = 3\n",
      "lst.append(f)\n",
      "lst = ['d', 'f']\n"
     ]
    },
    {
     "data": {
      "text/plain": [
       "2"
      ]
     },
     "execution_count": 32,
     "metadata": {},
     "output_type": "execute_result"
    }
   ],
   "source": [
    "lengthOfLongestSubstring(\"dvdf\")"
   ]
  },
  {
   "cell_type": "code",
   "execution_count": 48,
   "metadata": {},
   "outputs": [],
   "source": [
    "def lengthOfLongestSubstring(s: str) -> int:\n",
    "    seen = {}\n",
    "    l = 0\n",
    "    output = 0\n",
    "    for r in range(len(s)):\n",
    "        \"\"\"\n",
    "        If s[r] not in seen, we can keep increasing the window size by moving right pointer\n",
    "        \"\"\"\n",
    "        if s[r] not in seen:\n",
    "            output = max(output,r-l+1)\n",
    "            \"\"\"\n",
    "            There are two cases if s[r] in seen:\n",
    "            case1: s[r] is inside the current window, we need to change the window by moving left pointer to seen[s[r]]+1.\n",
    "            case2: s[r] is not inside the current window, we can keep increase the window\n",
    "            \"\"\"\n",
    "        else:\n",
    "            if seen[s[r]] < l:\n",
    "                output = max(output,r-l+1)\n",
    "            else:\n",
    "                l = seen[s[r]] + 1\n",
    "        seen[s[r]] = r\n",
    "    return output"
   ]
  },
  {
   "cell_type": "code",
   "execution_count": 49,
   "metadata": {},
   "outputs": [
    {
     "data": {
      "text/plain": [
       "3"
      ]
     },
     "execution_count": 49,
     "metadata": {},
     "output_type": "execute_result"
    }
   ],
   "source": [
    "lengthOfLongestSubstring(\"dvdf\")"
   ]
  },
  {
   "cell_type": "code",
   "execution_count": null,
   "metadata": {},
   "outputs": [],
   "source": []
  }
 ],
 "metadata": {
  "kernelspec": {
   "display_name": "Python 3",
   "language": "python",
   "name": "python3"
  },
  "language_info": {
   "codemirror_mode": {
    "name": "ipython",
    "version": 3
   },
   "file_extension": ".py",
   "mimetype": "text/x-python",
   "name": "python",
   "nbconvert_exporter": "python",
   "pygments_lexer": "ipython3",
   "version": "3.8.6"
  }
 },
 "nbformat": 4,
 "nbformat_minor": 4
}

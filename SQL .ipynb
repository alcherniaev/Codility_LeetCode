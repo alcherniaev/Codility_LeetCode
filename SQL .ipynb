{
 "cells": [
  {
   "cell_type": "markdown",
   "metadata": {},
   "source": [
    "## 262. Trips and Users (Hard)"
   ]
  },
  {
   "cell_type": "code",
   "execution_count": null,
   "metadata": {},
   "outputs": [],
   "source": [
    "Write a SQL query to find the cancellation rate of requests with unbanned users (both client and driver must not be banned) each day between \"2013-10-01\" and \"2013-10-03\".\n",
    "\n",
    "The cancellation rate is computed by dividing the number of canceled (by client or driver) requests with unbanned users by the total number of requests with unbanned users on that day.\n",
    "\n",
    "Return the result table in any order. Round Cancellation Rate to two decimal points.\n",
    "\n",
    "The query result format is in the following example:\n",
    "    \n",
    "    Table: Trips\n",
    "\n",
    "+-------------+----------+  \n",
    "| Column Name | Type     |  \n",
    "+-------------+----------+  \n",
    "| Id          | int      |  \n",
    "| Client_Id   | int      |  \n",
    "| Driver_Id   | int      |  \n",
    "| City_Id     | int      |  \n",
    "| Status      | enum     |  \n",
    "| Request_at  | date     |       \n",
    "+-------------+----------+  \n",
    "\n",
    "Id is the primary key for this table.\n",
    "The table holds all taxi trips. Each trip has a unique Id, while Client_Id and Driver_Id are foreign keys to the Users_Id at the Users table.\n",
    "Status is an ENUM type of (‘completed’, ‘cancelled_by_driver’, ‘cancelled_by_client’).\n",
    "\n",
    "    Table: Users\n",
    "+-------------+----------+\n",
    "| Column Name | Type     |\n",
    "+-------------+----------+\n",
    "| Users_Id    | int      |\n",
    "| Banned      | enum     |\n",
    "| Role        | enum     |\n",
    "+-------------+----------+\n",
    "\n",
    "Users_Id is the primary key for this table.\n",
    "The table holds all users. Each user has a unique Users_Id, and Role is an ENUM type of (‘client’, ‘driver’, ‘partner’).\n",
    "Status is an ENUM type of (‘Yes’, ‘No’).\n"
   ]
  },
  {
   "cell_type": "code",
   "execution_count": null,
   "metadata": {},
   "outputs": [],
   "source": [
    "WITH CTE AS (SELECT * FROM trips\n",
    "             WHERE client_id IN (SELECT users_id\n",
    "                                 FROM users \n",
    "                                 WHERE banned = 'No')\n",
    "             AND driver_id IN (SELECT users_id\n",
    "                               FROM users \n",
    "                               WHERE banned = 'No')\n",
    "             AND request_at BETWEEN '2013-10-01' and '2013-10-03')\n",
    " \n",
    " \n",
    " SELECT request_at AS 'Day', \n",
    "        ROUND(CAST(SUM(CASE \n",
    "                    WHEN status = 'completed'\n",
    "                    THEN 0 \n",
    "                    ELSE 1 \n",
    "                  END) AS DECIMAL(18,2)) / \n",
    "              COUNT(*), 2)\n",
    "             AS 'Cancellation Rate'\n",
    " FROM CTE\n",
    " GROUP BY request_at;"
   ]
  },
  {
   "cell_type": "markdown",
   "metadata": {},
   "source": [
    "## 601. Human Traffic of Stadium (Hard)"
   ]
  },
  {
   "cell_type": "code",
   "execution_count": null,
   "metadata": {},
   "outputs": [],
   "source": [
    "+---------------+---------+\n",
    "| Column Name   | Type    |\n",
    "+---------------+---------+\n",
    "| id            | int     |\n",
    "| visit_date    | date    |\n",
    "| people        | int     |\n",
    "+---------------+---------+\n",
    "visit_date is the primary key for this table.\n",
    "Each row of this table contains the visit date and visit id to the stadium with the number of people during the visit.\n",
    "No two rows will have the same visit_date, and as the id increases, the dates increase as well.\n",
    " \n",
    "\n",
    "Write an SQL query to display the records with three or more rows with consecutive id's, and the number of people is greater than or equal to 100 for each.\n",
    "\n",
    "Return the result table ordered by visit_date in ascending order.\n",
    "\n",
    "The query result format is in the following example.\n",
    "\n",
    " \n",
    "\n",
    "Stadium table:\n",
    "+------+------------+-----------+\n",
    "| id   | visit_date | people    |\n",
    "+------+------------+-----------+\n",
    "| 1    | 2017-01-01 | 10        |\n",
    "| 2    | 2017-01-02 | 109       |\n",
    "| 3    | 2017-01-03 | 150       |\n",
    "| 4    | 2017-01-04 | 99        |\n",
    "| 5    | 2017-01-05 | 145       |\n",
    "| 6    | 2017-01-06 | 1455      |\n",
    "| 7    | 2017-01-07 | 199       |\n",
    "| 8    | 2017-01-09 | 188       |\n",
    "+------+------------+-----------+\n",
    "\n",
    "Result table:\n",
    "+------+------------+-----------+\n",
    "| id   | visit_date | people    |\n",
    "+------+------------+-----------+\n",
    "| 5    | 2017-01-05 | 145       |\n",
    "| 6    | 2017-01-06 | 1455      |\n",
    "| 7    | 2017-01-07 | 199       |\n",
    "| 8    | 2017-01-09 | 188       |\n",
    "+------+------------+-----------+\n",
    "The four rows with ids 5, 6, 7, and 8 have consecutive ids and each of them has >= 100 people attended. Note that row 8 was included even though the visit_date was not the next day after row 7.\n",
    "The rows with ids 2 and 3 are not included because we need at least three consecutive ids."
   ]
  },
  {
   "cell_type": "code",
   "execution_count": null,
   "metadata": {},
   "outputs": [],
   "source": [
    "# Write your T-SQL query statement below\n",
    "\n",
    "WITH CTE1 AS (\n",
    "    SELECT \n",
    "        (id - RANK() OVER (ORDER BY id)) as [pointer], -- same number for consecutive ids\n",
    "        id,\n",
    "        visit_date,\n",
    "        people\n",
    "    FROM Stadium\n",
    "    WHERE people > 99\n",
    "),\n",
    "    CTE2 AS (\n",
    "    SELECT \n",
    "        COUNT(id) OVER (PARTITION BY [pointer]) as [three_or_more], -- count number of consecutive ids\n",
    "        id,\n",
    "        visit_date,\n",
    "        people\n",
    "    FROM CTE1\n",
    ")\n",
    "\n",
    "SELECT\n",
    "    id, visit_date, people\n",
    "FROM CTE2 WHERE [three_or_more] > 2"
   ]
  },
  {
   "cell_type": "markdown",
   "metadata": {},
   "source": [
    "## 185. Department Top Three Salaries (Hard)"
   ]
  },
  {
   "cell_type": "code",
   "execution_count": null,
   "metadata": {},
   "outputs": [],
   "source": [
    "The Employee table holds all employees. Every employee has an Id, and there is also a column for the department Id.\n",
    "\n",
    "+----+-------+--------+--------------+\n",
    "| Id | Name  | Salary | DepartmentId |\n",
    "+----+-------+--------+--------------+\n",
    "| 1  | Joe   | 85000  | 1            |\n",
    "| 2  | Henry | 80000  | 2            |\n",
    "| 3  | Sam   | 60000  | 2            |\n",
    "| 4  | Max   | 90000  | 1            |\n",
    "| 5  | Janet | 69000  | 1            |\n",
    "| 6  | Randy | 85000  | 1            |\n",
    "| 7  | Will  | 70000  | 1            |\n",
    "+----+-------+--------+--------------+\n",
    "The Department table holds all departments of the company.\n",
    "\n",
    "+----+----------+\n",
    "| Id | Name     |\n",
    "+----+----------+\n",
    "| 1  | IT       |\n",
    "| 2  | Sales    |\n",
    "+----+----------+\n",
    "Write a SQL query to find employees who earn the top three salaries in each of the department. For the above tables, your SQL query should return the following rows (order of rows does not matter).\n",
    "\n",
    "+------------+----------+--------+\n",
    "| Department | Employee | Salary |\n",
    "+------------+----------+--------+\n",
    "| IT         | Max      | 90000  |\n",
    "| IT         | Randy    | 85000  |\n",
    "| IT         | Joe      | 85000  |\n",
    "| IT         | Will     | 70000  |\n",
    "| Sales      | Henry    | 80000  |\n",
    "| Sales      | Sam      | 60000  |\n",
    "+------------+----------+--------+\n",
    "Explanation:\n",
    "\n",
    "In IT department, Max earns the highest salary, both Randy and Joe earn the second highest salary, and Will earns the third highest salary. There are only two employees in the Sales department, Henry earns the highest salary while Sam earns the second highest salary.\n",
    "\n"
   ]
  },
  {
   "cell_type": "code",
   "execution_count": null,
   "metadata": {},
   "outputs": [],
   "source": [
    "# Write your T-SQL query statement below \n",
    "\n",
    "WITH CTE AS (\n",
    "    SELECT \n",
    "        DENSE_RANK() OVER (PARTITION BY DepartmentId ORDER BY Salary DESC) AS [dense_rank]\n",
    "        ,Id\n",
    "        ,Name\n",
    "        ,Salary\n",
    "        ,DepartmentId\n",
    "    FROM Employee\n",
    ")\n",
    "\n",
    "SELECT \n",
    "    d.Name AS [Department]\n",
    "    ,CTE.Name AS [Employee]\n",
    "    ,Salary\n",
    "FROM CTE \n",
    "JOIN Department d on d.Id = CTE.DepartmentId\n",
    "WHERE [dense_rank] < 4"
   ]
  },
  {
   "cell_type": "markdown",
   "metadata": {},
   "source": [
    "## 626. Exchange Seats (medium)"
   ]
  },
  {
   "cell_type": "code",
   "execution_count": null,
   "metadata": {},
   "outputs": [],
   "source": [
    "Mary is a teacher in a middle school and she has a table seat storing students' names and their corresponding seat ids.\n",
    "\n",
    "The column id is continuous increment.\n",
    "\n",
    "Mary wants to change seats for the adjacent students.\n",
    "\n",
    "Can you write a SQL query to output the result for Mary?\n",
    "\n",
    " \n",
    "\n",
    "+---------+---------+\n",
    "|    id   | student |\n",
    "+---------+---------+\n",
    "|    1    | Abbot   |\n",
    "|    2    | Doris   |\n",
    "|    3    | Emerson |\n",
    "|    4    | Green   |\n",
    "|    5    | Jeames  |\n",
    "+---------+---------+\n",
    "For the sample input, the output is:\n",
    "\n",
    "+---------+---------+\n",
    "|    id   | student |\n",
    "+---------+---------+\n",
    "|    1    | Doris   |\n",
    "|    2    | Abbot   |\n",
    "|    3    | Green   |\n",
    "|    4    | Emerson |\n",
    "|    5    | Jeames  |\n",
    "+---------+---------+\n",
    "Note:\n",
    "\n",
    "If the number of students is odd, there is no need to change the last one's seat."
   ]
  },
  {
   "cell_type": "code",
   "execution_count": 1,
   "metadata": {},
   "outputs": [],
   "source": [
    "from math import floor, ceil"
   ]
  },
  {
   "cell_type": "code",
   "execution_count": 25,
   "metadata": {},
   "outputs": [
    {
     "name": "stdout",
     "output_type": "stream",
     "text": [
      "1 1\n",
      "2 1\n",
      "3 2\n",
      "4 2\n",
      "5 3\n",
      "6 3\n",
      "7 4\n",
      "8 4\n",
      "9 5\n",
      "10 5\n",
      "11 6\n",
      "12 6\n",
      "13 7\n",
      "14 7\n",
      "15 8\n"
     ]
    }
   ],
   "source": [
    "for i in range(1,16):\n",
    "    print(i, ceil(i/2))"
   ]
  },
  {
   "cell_type": "code",
   "execution_count": 24,
   "metadata": {},
   "outputs": [
    {
     "name": "stdout",
     "output_type": "stream",
     "text": [
      "sum: 1\n",
      "sum: 1\n",
      "sum: 2\n",
      "sum: 2\n",
      "sum: 3\n",
      "sum: 3\n",
      "sum: 4\n",
      "sum: 4\n",
      "sum: 5\n",
      "sum: 5\n",
      "sum: 6\n",
      "sum: 6\n",
      "sum: 7\n",
      "sum: 7\n",
      "sum: 8\n"
     ]
    }
   ],
   "source": [
    "for i in range(1,16):\n",
    "    print(\"sum: \" + str(floor(i/2) + (i % 2)))"
   ]
  },
  {
   "cell_type": "code",
   "execution_count": 2,
   "metadata": {},
   "outputs": [
    {
     "data": {
      "text/plain": [
       "1"
      ]
     },
     "execution_count": 2,
     "metadata": {},
     "output_type": "execute_result"
    }
   ],
   "source": [
    "ceil(0.5) # t-sql returns 1 also"
   ]
  },
  {
   "cell_type": "code",
   "execution_count": 3,
   "metadata": {},
   "outputs": [
    {
     "data": {
      "text/plain": [
       "1"
      ]
     },
     "execution_count": 3,
     "metadata": {},
     "output_type": "execute_result"
    }
   ],
   "source": [
    "ceil(1/2) # t-sql returns 0 "
   ]
  },
  {
   "cell_type": "code",
   "execution_count": null,
   "metadata": {},
   "outputs": [],
   "source": [
    "# Write your T-SQL query statement below \n",
    "\n",
    "\"\"\"\n",
    "SELECT ROW_NUMBER() OVER (ORDER BY FLOOR(id / 2) + (id % 2), id % 2) AS id, student\n",
    "FROM seat\n",
    "\"\"\""
   ]
  },
  {
   "cell_type": "markdown",
   "metadata": {},
   "source": [
    "## 177. Nth Highest Salary"
   ]
  },
  {
   "cell_type": "code",
   "execution_count": null,
   "metadata": {},
   "outputs": [],
   "source": [
    "Write a SQL query to get the nth highest salary from the Employee table.\n",
    "\n",
    "+----+--------+\n",
    "| Id | Salary |\n",
    "+----+--------+\n",
    "| 1  | 100    |\n",
    "| 2  | 200    |\n",
    "| 3  | 300    |\n",
    "+----+--------+\n",
    "For example, given the above Employee table, the nth highest salary where n = 2 is 200. If there is no nth highest salary, then the query should return null.\n",
    "\n",
    "+------------------------+\n",
    "| getNthHighestSalary(2) |\n",
    "+------------------------+\n",
    "| 200                    |\n",
    "+------------------------+"
   ]
  },
  {
   "cell_type": "code",
   "execution_count": null,
   "metadata": {},
   "outputs": [],
   "source": [
    "CREATE FUNCTION getNthHighestSalary(@N INT) RETURNS INT AS\n",
    "BEGIN\n",
    "    RETURN (\n",
    "        /* Write your T-SQL query statement below. */\n",
    "        SELECT max(Salary) FROM (\n",
    "        SELECT \n",
    "        Salary,\n",
    "        dense_rank() over (order by Salary desc) as Nth\n",
    "        FROM Employee ) t\n",
    "        WHERE Nth = @N\n",
    "    );\n",
    "END"
   ]
  }
 ],
 "metadata": {
  "kernelspec": {
   "display_name": "Python 3",
   "language": "python",
   "name": "python3"
  },
  "language_info": {
   "codemirror_mode": {
    "name": "ipython",
    "version": 3
   },
   "file_extension": ".py",
   "mimetype": "text/x-python",
   "name": "python",
   "nbconvert_exporter": "python",
   "pygments_lexer": "ipython3",
   "version": "3.8.6"
  }
 },
 "nbformat": 4,
 "nbformat_minor": 4
}

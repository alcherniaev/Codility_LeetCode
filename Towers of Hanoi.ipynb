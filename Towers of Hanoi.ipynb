{
 "cells": [
  {
   "cell_type": "markdown",
   "metadata": {},
   "source": [
    "Towers of Hanoi is an ancient mathematical puzzle that starts off with three stacks and many disks.\n",
    "\n",
    "The objective of the game is to move the stack of disks from the leftmost stack to the rightmost stack.\n",
    "\n",
    "The game follows three rules:\n",
    "\n",
    "* Only one disk can be moved at a time.\n",
    "* Each move consists of taking the upper disk from one of the stacks and placing it on top of another stack or on an empty rod.\n",
    "* No disk may be placed on top of a smaller disk."
   ]
  },
  {
   "cell_type": "markdown",
   "metadata": {},
   "source": [
    "![title](imgs/towrsofhanoi.gif)"
   ]
  }
 ],
 "metadata": {
  "kernelspec": {
   "display_name": "Python 3",
   "language": "python",
   "name": "python3"
  },
  "language_info": {
   "codemirror_mode": {
    "name": "ipython",
    "version": 3
   },
   "file_extension": ".py",
   "mimetype": "text/x-python",
   "name": "python",
   "nbconvert_exporter": "python",
   "pygments_lexer": "ipython3",
   "version": "3.8.6"
  }
 },
 "nbformat": 4,
 "nbformat_minor": 4
}

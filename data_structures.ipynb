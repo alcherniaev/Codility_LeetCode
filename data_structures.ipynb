{
 "cells": [
  {
   "cell_type": "code",
   "execution_count": 1,
   "metadata": {},
   "outputs": [
    {
     "data": {
      "text/html": [
       "<style>.container {width:98% !important; margin-left:1% !important; margin-right:auto !important;}</style>"
      ],
      "text/plain": [
       "<IPython.core.display.HTML object>"
      ]
     },
     "metadata": {},
     "output_type": "display_data"
    }
   ],
   "source": [
    "from IPython.core.display import display, HTML\n",
    "display(HTML(\"<style>.container {width:98% !important; margin-left:1% !important; margin-right:auto !important;}</style>\"))\n",
    "\n",
    "from IPython.core.interactiveshell import InteractiveShell\n",
    "InteractiveShell.ast_node_interactivity = 'all'"
   ]
  },
  {
   "cell_type": "markdown",
   "metadata": {},
   "source": [
    "## Nodes"
   ]
  },
  {
   "cell_type": "markdown",
   "metadata": {},
   "source": [
    "Defining a Node class to hold the values and links between nodes"
   ]
  },
  {
   "cell_type": "code",
   "execution_count": 4,
   "metadata": {},
   "outputs": [
    {
     "name": "stdout",
     "output_type": "stream",
     "text": [
      "enjoys spending time in movie lots\n",
      "has a penchant for hoarding snacks\n"
     ]
    }
   ],
   "source": [
    "class Node:\n",
    "  def __init__(self, value, next_node=None):\n",
    "    self.value = value\n",
    "    self.next_node = next_node\n",
    "    \n",
    "  def get_value(self):\n",
    "    return self.value\n",
    "  \n",
    "  def get_next_node(self):\n",
    "    return self.next_node\n",
    "  \n",
    "  def set_next_node(self, next_node):\n",
    "    self.next_node = next_node\n",
    "\n",
    "yacko = Node(\"likes to yak\")\n",
    "wacko = Node(\"has a penchant for hoarding snacks\")\n",
    "dot = Node(\"enjoys spending time in movie lots\")\n",
    "\n",
    "dot.set_next_node(wacko)\n",
    "yacko.set_next_node(dot)\n",
    "\n",
    "dots_data = yacko.get_next_node().get_value()\n",
    "wackos_data = dot.get_next_node().get_value()\n",
    "\n",
    "print(dots_data)\n",
    "print(wackos_data)"
   ]
  },
  {
   "cell_type": "markdown",
   "metadata": {},
   "source": [
    "## Linked List"
   ]
  },
  {
   "cell_type": "markdown",
   "metadata": {},
   "source": [
    "Implementing a LinkedList class to handle external operations on the list like adding and removing nodes"
   ]
  },
  {
   "cell_type": "code",
   "execution_count": 2,
   "metadata": {},
   "outputs": [],
   "source": [
    "class LinkedList:\n",
    "  def __init__(self, value=None):\n",
    "    self.head_node = Node(value)\n",
    "  \n",
    "  def get_head_node(self):\n",
    "    return self.head_node\n",
    "  \n",
    "  def insert_beginning(self, new_value):\n",
    "    new_node = Node(new_value)\n",
    "    new_node.set_next_node(self.head_node)\n",
    "    self.head_node = new_node\n",
    "    \n",
    "  def stringify_list(self):\n",
    "    string_list = \"\"\n",
    "    current_node = self.get_head_node()\n",
    "    while current_node:\n",
    "      if current_node.get_value() != None:\n",
    "        string_list += str(current_node.get_value()) + \"\\n\"\n",
    "      current_node = current_node.get_next_node()\n",
    "    return string_list\n",
    "  \n",
    "  def remove_node(self, value_to_remove):\n",
    "    current_node = self.get_head_node()\n",
    "    if current_node.get_value() == value_to_remove:\n",
    "      self.head_node = current_node.get_next_node()\n",
    "    else:\n",
    "      while current_node:\n",
    "        next_node = current_node.get_next_node()\n",
    "        if next_node.get_value() == value_to_remove:\n",
    "          current_node.set_next_node(next_node.get_next_node())\n",
    "          current_node = None\n",
    "        else:\n",
    "          current_node = next_node"
   ]
  },
  {
   "cell_type": "markdown",
   "metadata": {},
   "source": [
    "## Doubly Linked Lists"
   ]
  },
  {
   "cell_type": "markdown",
   "metadata": {},
   "source": [
    "Your browser history is another example of a doubly linked list. When you open your browser, the page that you land on is the head of your list. As you click on things and navigate to new pages, you are moving forward and adding to the tail of your list. If you ever want to go back to something you’ve already visited, you can use the “back” button to move backward through your list\n",
    "\n",
    "Implemented:\n",
    "* Using our Node class to hold the value and links between nodes\n",
    "* Implementing a DoublyLinkedList class to handle external operations on the list, like adding and removing nodes\n",
    "* Creating an instance of our list, and using the .stringify_list() method to track the changes we made"
   ]
  },
  {
   "cell_type": "code",
   "execution_count": 1,
   "metadata": {},
   "outputs": [
    {
     "name": "stdout",
     "output_type": "stream",
     "text": [
      "Central Park\n",
      "Grand Central\n",
      "Times Square\n",
      "\n",
      "Central Park\n",
      "Grand Central\n",
      "Times Square\n",
      "Penn Station\n",
      "Wall Street\n",
      "Brooklyn Bridge\n",
      "\n",
      "Central Park\n",
      "Grand Central\n",
      "Penn Station\n",
      "Wall Street\n",
      "Brooklyn Bridge\n",
      "\n"
     ]
    }
   ],
   "source": [
    "class Node:\n",
    "  def __init__(self, value, next_node=None, prev_node=None):\n",
    "    self.value = value\n",
    "    self.next_node = next_node\n",
    "    self.prev_node = prev_node\n",
    "    \n",
    "  def set_next_node(self, next_node):\n",
    "    self.next_node = next_node\n",
    "    \n",
    "  def get_next_node(self):\n",
    "    return self.next_node\n",
    "\n",
    "  def set_prev_node(self, prev_node):\n",
    "    self.prev_node = prev_node\n",
    "    \n",
    "  def get_prev_node(self):\n",
    "    return self.prev_node\n",
    "  \n",
    "  def get_value(self):\n",
    "    return self.value\n",
    "\n",
    "\n",
    "class DoublyLinkedList:\n",
    "  def __init__(self):\n",
    "    self.head_node = None\n",
    "    self.tail_node = None\n",
    "  \n",
    "  def add_to_head(self, new_value):\n",
    "    new_head = Node(new_value)\n",
    "    current_head = self.head_node\n",
    "\n",
    "    if current_head != None:\n",
    "      current_head.set_prev_node(new_head)\n",
    "      new_head.set_next_node(current_head)\n",
    "\n",
    "    self.head_node = new_head\n",
    "\n",
    "    if self.tail_node == None:\n",
    "      self.tail_node = new_head\n",
    "\n",
    "  def add_to_tail(self, new_value):\n",
    "    new_tail = Node(new_value)\n",
    "    current_tail = self.tail_node\n",
    "\n",
    "    if current_tail != None:\n",
    "      current_tail.set_next_node(new_tail)\n",
    "      new_tail.set_prev_node(current_tail)\n",
    "\n",
    "    self.tail_node = new_tail\n",
    "\n",
    "    if self.head_node == None:\n",
    "      self.head_node = new_tail\n",
    "\n",
    "  def remove_head(self):\n",
    "    removed_head = self.head_node\n",
    "\n",
    "    if removed_head == None:\n",
    "      return None\n",
    "\n",
    "    self.head_node = removed_head.get_next_node()\n",
    "\n",
    "    if self.head_node != None:\n",
    "      self.head_node.set_prev_node(None)\n",
    "\n",
    "    if removed_head == self.tail_node:\n",
    "      self.remove_tail()\n",
    "\n",
    "    return removed_head.get_value()\n",
    "\n",
    "  def remove_tail(self):\n",
    "    removed_tail = self.tail_node\n",
    "\n",
    "    if removed_tail == None:\n",
    "      return None\n",
    "\n",
    "    self.tail_node = removed_tail.get_prev_node()\n",
    "\n",
    "    if self.tail_node != None:\n",
    "      self.tail_node.set_next_node(None)\n",
    "\n",
    "    if removed_tail == self.head_node:\n",
    "      self.remove_head()\n",
    "\n",
    "    return removed_tail.get_value()\n",
    "\n",
    "  def remove_by_value(self, value_to_remove):\n",
    "    node_to_remove = None\n",
    "    current_node = self.head_node\n",
    "\n",
    "    while current_node != None:\n",
    "      if current_node.get_value() == value_to_remove:\n",
    "        node_to_remove = current_node\n",
    "        break\n",
    "\n",
    "      current_node = current_node.get_next_node()\n",
    "\n",
    "    if node_to_remove == None:\n",
    "      return None\n",
    "\n",
    "    if node_to_remove == self.head_node:\n",
    "      self.remove_head()\n",
    "    elif node_to_remove == self.tail_node:\n",
    "      self.remove_tail()\n",
    "    else:\n",
    "      next_node = node_to_remove.get_next_node()\n",
    "      prev_node = node_to_remove.get_prev_node()\n",
    "      next_node.set_prev_node(prev_node)\n",
    "      prev_node.set_next_node(next_node)\n",
    "\n",
    "    return node_to_remove\n",
    "\n",
    "  def stringify_list(self):\n",
    "    string_list = \"\"\n",
    "    current_node = self.head_node\n",
    "    while current_node:\n",
    "      if current_node.get_value() != None:\n",
    "        string_list += str(current_node.get_value()) + \"\\n\"\n",
    "      current_node = current_node.get_next_node()\n",
    "    return string_list\n",
    "\n",
    "# Create subway line (example of usage linked list):\n",
    "subway = DoublyLinkedList()\n",
    "\n",
    "subway.add_to_head(\"Times Square\")\n",
    "subway.add_to_head(\"Grand Central\")\n",
    "subway.add_to_head(\"Central Park\")\n",
    "\n",
    "print(subway.stringify_list())\n",
    "\n",
    "subway.add_to_tail(\"Penn Station\")\n",
    "subway.add_to_tail(\"Wall Street\")\n",
    "subway.add_to_tail(\"Brooklyn Bridge\")\n",
    "\n",
    "print(subway.stringify_list())\n",
    "\n",
    "subway.remove_by_value(\"Times Square\")\n",
    "print(subway.stringify_list())"
   ]
  },
  {
   "cell_type": "markdown",
   "metadata": {},
   "source": [
    "## Linear Search"
   ]
  },
  {
   "cell_type": "markdown",
   "metadata": {},
   "source": [
    "The linear search, or sequential search, algorithm sequentially checks whether a given value is an element of a specified list by scanning the elements of a list one-by-one. It checks every item in the list in order from the beginning to end until it finds a target value.\n",
    "\n",
    "If it finds the target value in the list, the linear search algorithm stops and returns the position in the list corresponding to the target value. If it does not find the value, the linear search algorithm returns a message stating that the target value is not in the list."
   ]
  },
  {
   "cell_type": "markdown",
   "metadata": {},
   "source": [
    "* Linear search is a search algorithm that sequentially checks whether a given value is an element of a specified list by scanning the elements of a list one-by-one until it finds the target value.\n",
    "* The time complexity for linear search is O(N), but its performance is dependent on its input:\n",
    "    * Best Case: The algorithm requires only 1 comparison to find the target value in the first position of the list.\n",
    "    * Worst Case: The algorithm requires only n comparison to find the target value in the last position of the list or does not exist in the list.\n",
    "    * Average Case: The algorithm makes N/2 comparisons.\n",
    "* Linear search is a good choice for a search algorithm when:\n",
    "    * You expect the target value to be positioned near the beginning of the list.\n",
    "\n",
    "    * A search needs to be performed on an unsorted list because linear search traverses the entire list from beginning to end, regardless of its order."
   ]
  },
  {
   "cell_type": "markdown",
   "metadata": {},
   "source": [
    "## Binary Search"
   ]
  },
  {
   "cell_type": "markdown",
   "metadata": {},
   "source": [
    "In each iteration, we are cutting the list in half. The time complexity is O(log N).\n",
    "A sorted list of 64 elements will take at most log2(64) = 6 comparisons."
   ]
  },
  {
   "cell_type": "code",
   "execution_count": null,
   "metadata": {},
   "outputs": [],
   "source": []
  }
 ],
 "metadata": {
  "kernelspec": {
   "display_name": "Python 3",
   "language": "python",
   "name": "python3"
  },
  "language_info": {
   "codemirror_mode": {
    "name": "ipython",
    "version": 3
   },
   "file_extension": ".py",
   "mimetype": "text/x-python",
   "name": "python",
   "nbconvert_exporter": "python",
   "pygments_lexer": "ipython3",
   "version": "3.8.6"
  }
 },
 "nbformat": 4,
 "nbformat_minor": 4
}

{
 "cells": [
  {
   "cell_type": "code",
   "execution_count": 1,
   "metadata": {},
   "outputs": [
    {
     "data": {
      "text/html": [
       "<style>.container {width:98% !important; margin-left:1% !important; margin-right:auto !important;}</style>"
      ],
      "text/plain": [
       "<IPython.core.display.HTML object>"
      ]
     },
     "metadata": {},
     "output_type": "display_data"
    }
   ],
   "source": [
    "from IPython.core.display import display, HTML\n",
    "display(HTML(\"<style>.container {width:98% !important; margin-left:1% !important; margin-right:auto !important;}</style>\"))\n",
    "\n",
    "from IPython.core.interactiveshell import InteractiveShell\n",
    "InteractiveShell.ast_node_interactivity = 'all'"
   ]
  },
  {
   "cell_type": "markdown",
   "metadata": {},
   "source": [
    "## Nodes"
   ]
  },
  {
   "cell_type": "markdown",
   "metadata": {},
   "source": [
    "Nodes are the fundamental building blocks of many computer science data structures. They form the basis for linked lists, stacks, queues, trees, and more.\n",
    "\n",
    "An individual node contains data and links to other nodes. Each data structure adds additional constraints or behavior to these features to create the desired structure."
   ]
  },
  {
   "cell_type": "markdown",
   "metadata": {},
   "source": [
    "![alt text](imgs/nodes.png \"Title\")"
   ]
  },
  {
   "cell_type": "code",
   "execution_count": 46,
   "metadata": {},
   "outputs": [
    {
     "name": "stdout",
     "output_type": "stream",
     "text": [
      "enjoys spending time in movie lots\n",
      "has a penchant for hoarding snacks\n"
     ]
    }
   ],
   "source": [
    "class Node:\n",
    "  def __init__(self, value, next_node=None):\n",
    "    self.value = value\n",
    "    self.next_node = next_node\n",
    "    \n",
    "  def get_value(self):\n",
    "    return self.value\n",
    "  \n",
    "  def get_next_node(self):\n",
    "    return self.next_node\n",
    "  \n",
    "  def set_next_node(self, next_node):\n",
    "    self.next_node = next_node\n",
    "\n",
    "yacko = Node(\"likes to yak\")\n",
    "wacko = Node(\"has a penchant for hoarding snacks\")\n",
    "dot = Node(\"enjoys spending time in movie lots\")\n",
    "\n",
    "dot.set_next_node(wacko)\n",
    "yacko.set_next_node(dot)\n",
    "\n",
    "dots_data = yacko.get_next_node().get_value()\n",
    "wackos_data = dot.get_next_node().get_value()\n",
    "\n",
    "print(dots_data)\n",
    "print(wackos_data)"
   ]
  },
  {
   "cell_type": "markdown",
   "metadata": {},
   "source": [
    "## Linked List"
   ]
  },
  {
   "cell_type": "markdown",
   "metadata": {},
   "source": [
    "Implementing a LinkedList class to handle external operations on the list like adding and removing nodes\n",
    "\n",
    "* Are comprised of nodes\n",
    "* The nodes contain a link to the next node (and also the previous node for bidirectional linked lists)\n",
    "* Can be unidirectional or bidirectional\n",
    "* Are a basic data structure, and form the basis for many other data structures\n",
    "* Have a single head node, which serves as the first node in the list\n",
    "* Require some maintenance in order to add or remove nodes\n",
    "* The methods we used are an example and depend on the exact use case and/or programming language being used"
   ]
  },
  {
   "cell_type": "markdown",
   "metadata": {},
   "source": [
    "![alt text](imgs/linked_list.png \"Title\")"
   ]
  },
  {
   "cell_type": "code",
   "execution_count": 47,
   "metadata": {},
   "outputs": [],
   "source": [
    "class LinkedList:\n",
    "  def __init__(self, value=None):\n",
    "    self.head_node = Node(value)\n",
    "  \n",
    "  def get_head_node(self):\n",
    "    return self.head_node\n",
    "  \n",
    "  def insert_beginning(self, new_value):\n",
    "    new_node = Node(new_value)\n",
    "    new_node.set_next_node(self.head_node)\n",
    "    self.head_node = new_node\n",
    "    \n",
    "  def stringify_list(self):\n",
    "    string_list = \"\"\n",
    "    current_node = self.get_head_node()\n",
    "    while current_node:\n",
    "      if current_node.get_value() != None:\n",
    "        string_list += str(current_node.get_value()) + \"\\n\"\n",
    "      current_node = current_node.get_next_node()\n",
    "    return string_list\n",
    "  \n",
    "  def remove_node(self, value_to_remove):\n",
    "    current_node = self.get_head_node()\n",
    "    if current_node.get_value() == value_to_remove:\n",
    "      self.head_node = current_node.get_next_node()\n",
    "    else:\n",
    "      while current_node:\n",
    "        next_node = current_node.get_next_node()\n",
    "        if next_node.get_value() == value_to_remove:\n",
    "          current_node.set_next_node(next_node.get_next_node())\n",
    "          current_node = None\n",
    "        else:\n",
    "          current_node = next_node"
   ]
  },
  {
   "cell_type": "markdown",
   "metadata": {},
   "source": [
    "## Doubly Linked Lists"
   ]
  },
  {
   "cell_type": "markdown",
   "metadata": {},
   "source": [
    "Your browser history is another example of a doubly linked list. When you open your browser, the page that you land on is the head of your list. As you click on things and navigate to new pages, you are moving forward and adding to the tail of your list. If you ever want to go back to something you’ve already visited, you can use the “back” button to move backward through your list\n",
    "\n",
    "Implemented:\n",
    "* Using our Node class to hold the value and links between nodes\n",
    "* Implementing a DoublyLinkedList class to handle external operations on the list, like adding and removing nodes\n",
    "* Creating an instance of our list, and using the .stringify_list() method to track the changes we made"
   ]
  },
  {
   "cell_type": "markdown",
   "metadata": {},
   "source": [
    "![alt text](imgs/doubly_linked_list.png \"Title\")"
   ]
  },
  {
   "cell_type": "code",
   "execution_count": 48,
   "metadata": {},
   "outputs": [
    {
     "name": "stdout",
     "output_type": "stream",
     "text": [
      "Central Park\n",
      "Grand Central\n",
      "Times Square\n",
      "\n",
      "Central Park\n",
      "Grand Central\n",
      "Times Square\n",
      "Penn Station\n",
      "Wall Street\n",
      "Brooklyn Bridge\n",
      "\n",
      "Central Park\n",
      "Grand Central\n",
      "Penn Station\n",
      "Wall Street\n",
      "Brooklyn Bridge\n",
      "\n"
     ]
    }
   ],
   "source": [
    "class Node:\n",
    "  def __init__(self, value, next_node=None, prev_node=None):\n",
    "    self.value = value\n",
    "    self.next_node = next_node\n",
    "    self.prev_node = prev_node\n",
    "    \n",
    "  def set_next_node(self, next_node):\n",
    "    self.next_node = next_node\n",
    "    \n",
    "  def get_next_node(self):\n",
    "    return self.next_node\n",
    "\n",
    "  def set_prev_node(self, prev_node):\n",
    "    self.prev_node = prev_node\n",
    "    \n",
    "  def get_prev_node(self):\n",
    "    return self.prev_node\n",
    "  \n",
    "  def get_value(self):\n",
    "    return self.value\n",
    "\n",
    "\n",
    "class DoublyLinkedList:\n",
    "  def __init__(self):\n",
    "    self.head_node = None\n",
    "    self.tail_node = None\n",
    "  \n",
    "  def add_to_head(self, new_value):\n",
    "    new_head = Node(new_value)\n",
    "    current_head = self.head_node\n",
    "\n",
    "    if current_head != None:\n",
    "      current_head.set_prev_node(new_head)\n",
    "      new_head.set_next_node(current_head)\n",
    "\n",
    "    self.head_node = new_head\n",
    "\n",
    "    if self.tail_node == None:\n",
    "      self.tail_node = new_head\n",
    "\n",
    "  def add_to_tail(self, new_value):\n",
    "    new_tail = Node(new_value)\n",
    "    current_tail = self.tail_node\n",
    "\n",
    "    if current_tail != None:\n",
    "      current_tail.set_next_node(new_tail)\n",
    "      new_tail.set_prev_node(current_tail)\n",
    "\n",
    "    self.tail_node = new_tail\n",
    "\n",
    "    if self.head_node == None:\n",
    "      self.head_node = new_tail\n",
    "\n",
    "  def remove_head(self):\n",
    "    removed_head = self.head_node\n",
    "\n",
    "    if removed_head == None:\n",
    "      return None\n",
    "\n",
    "    self.head_node = removed_head.get_next_node()\n",
    "\n",
    "    if self.head_node != None:\n",
    "      self.head_node.set_prev_node(None)\n",
    "\n",
    "    if removed_head == self.tail_node:\n",
    "      self.remove_tail()\n",
    "\n",
    "    return removed_head.get_value()\n",
    "\n",
    "  def remove_tail(self):\n",
    "    removed_tail = self.tail_node\n",
    "\n",
    "    if removed_tail == None:\n",
    "      return None\n",
    "\n",
    "    self.tail_node = removed_tail.get_prev_node()\n",
    "\n",
    "    if self.tail_node != None:\n",
    "      self.tail_node.set_next_node(None)\n",
    "\n",
    "    if removed_tail == self.head_node:\n",
    "      self.remove_head()\n",
    "\n",
    "    return removed_tail.get_value()\n",
    "\n",
    "  def remove_by_value(self, value_to_remove):\n",
    "    node_to_remove = None\n",
    "    current_node = self.head_node\n",
    "\n",
    "    while current_node != None:\n",
    "      if current_node.get_value() == value_to_remove:\n",
    "        node_to_remove = current_node\n",
    "        break\n",
    "\n",
    "      current_node = current_node.get_next_node()\n",
    "\n",
    "    if node_to_remove == None:\n",
    "      return None\n",
    "\n",
    "    if node_to_remove == self.head_node:\n",
    "      self.remove_head()\n",
    "    elif node_to_remove == self.tail_node:\n",
    "      self.remove_tail()\n",
    "    else:\n",
    "      next_node = node_to_remove.get_next_node()\n",
    "      prev_node = node_to_remove.get_prev_node()\n",
    "      next_node.set_prev_node(prev_node)\n",
    "      prev_node.set_next_node(next_node)\n",
    "\n",
    "    return node_to_remove\n",
    "\n",
    "  def stringify_list(self):\n",
    "    string_list = \"\"\n",
    "    current_node = self.head_node\n",
    "    while current_node:\n",
    "      if current_node.get_value() != None:\n",
    "        string_list += str(current_node.get_value()) + \"\\n\"\n",
    "      current_node = current_node.get_next_node()\n",
    "    return string_list\n",
    "\n",
    "# Create subway line (example of usage linked list):\n",
    "subway = DoublyLinkedList()\n",
    "\n",
    "subway.add_to_head(\"Times Square\")\n",
    "subway.add_to_head(\"Grand Central\")\n",
    "subway.add_to_head(\"Central Park\")\n",
    "\n",
    "print(subway.stringify_list())\n",
    "\n",
    "subway.add_to_tail(\"Penn Station\")\n",
    "subway.add_to_tail(\"Wall Street\")\n",
    "subway.add_to_tail(\"Brooklyn Bridge\")\n",
    "\n",
    "print(subway.stringify_list())\n",
    "\n",
    "subway.remove_by_value(\"Times Square\")\n",
    "print(subway.stringify_list())"
   ]
  },
  {
   "cell_type": "markdown",
   "metadata": {},
   "source": [
    "## Linear Search"
   ]
  },
  {
   "cell_type": "markdown",
   "metadata": {},
   "source": [
    "The linear search, or sequential search, algorithm sequentially checks whether a given value is an element of a specified list by scanning the elements of a list one-by-one. It checks every item in the list in order from the beginning to end until it finds a target value.\n",
    "\n",
    "If it finds the target value in the list, the linear search algorithm stops and returns the position in the list corresponding to the target value. If it does not find the value, the linear search algorithm returns a message stating that the target value is not in the list."
   ]
  },
  {
   "cell_type": "markdown",
   "metadata": {},
   "source": [
    "* Linear search is a search algorithm that sequentially checks whether a given value is an element of a specified list by scanning the elements of a list one-by-one until it finds the target value.\n",
    "* The time complexity for linear search is O(N), but its performance is dependent on its input:\n",
    "    * Best Case: The algorithm requires only 1 comparison to find the target value in the first position of the list.\n",
    "    * Worst Case: The algorithm requires only n comparison to find the target value in the last position of the list or does not exist in the list.\n",
    "    * Average Case: The algorithm makes N/2 comparisons.\n",
    "* Linear search is a good choice for a search algorithm when:\n",
    "    * You expect the target value to be positioned near the beginning of the list.\n",
    "\n",
    "    * A search needs to be performed on an unsorted list because linear search traverses the entire list from beginning to end, regardless of its order."
   ]
  },
  {
   "cell_type": "code",
   "execution_count": 3,
   "metadata": {},
   "outputs": [
    {
     "name": "stdout",
     "output_type": "stream",
     "text": [
      "2\n"
     ]
    }
   ],
   "source": [
    "# A list of the ingredients for tuna sushi\n",
    "recipe = [\"nori\", \"tuna\", \"soy sauce\", \"sushi rice\"]\n",
    "target_ingredient = \"soy sauce\"\n",
    "\n",
    "def linear_search(search_list, target_value):\n",
    "  for idx in range(len(search_list)):\n",
    "    if search_list[idx] == target_value:\n",
    "      return idx\n",
    "  raise ValueError(f\"{target_value} not in list\")\n",
    "\n",
    "print(linear_search(recipe, target_ingredient))"
   ]
  },
  {
   "cell_type": "markdown",
   "metadata": {},
   "source": [
    "## Binary Search"
   ]
  },
  {
   "cell_type": "markdown",
   "metadata": {},
   "source": [
    "In each iteration, we are cutting the list in half. The time complexity is O(log N).\n",
    "A sorted list of 64 elements will take at most log2(64) = 6 comparisons."
   ]
  },
  {
   "cell_type": "code",
   "execution_count": 11,
   "metadata": {},
   "outputs": [
    {
     "name": "stdout",
     "output_type": "stream",
     "text": [
      "4\n",
      "Value not in list\n"
     ]
    }
   ],
   "source": [
    "def binary_search(sorted_list, target):\n",
    "  left_pointer = 0\n",
    "  right_pointer = len(sorted_list)\n",
    "  \n",
    "  while left_pointer < right_pointer:\n",
    "    # calculate the middle index using the two pointers\n",
    "    mid_idx = (left_pointer+right_pointer)//2\n",
    "    mid_val = sorted_list[mid_idx]\n",
    "    if mid_val == target:\n",
    "      return mid_idx\n",
    "    if target < mid_val:\n",
    "      # set the right_pointer to the appropriate value\n",
    "      right_pointer = mid_idx\n",
    "    if target > mid_val:\n",
    "      # set the left_pointer to the appropriate value\n",
    "      left_pointer = mid_idx+1\n",
    "  \n",
    "  return \"Value not in list\"\n",
    "\n",
    "# test cases\n",
    "print(binary_search([5,6,7,8,9], 9))\n",
    "print(binary_search([5,6,7,8,9], 10))"
   ]
  },
  {
   "cell_type": "markdown",
   "metadata": {},
   "source": [
    "## Queues"
   ]
  },
  {
   "cell_type": "markdown",
   "metadata": {},
   "source": [
    "A queue is a data structure which contains an ordered set of data.\n",
    "\n",
    "Queues provide three methods for interaction:\n",
    "\n",
    "* Enqueue - adds data to the “back” or end of the queue\n",
    "* Dequeue - provides and removes data from the “front” or beginning of the queue\n",
    "* Peek - reveals data from the “front” of the queue without removing it"
   ]
  },
  {
   "cell_type": "markdown",
   "metadata": {},
   "source": [
    "![alt text](imgs/queues.png \"Title\")"
   ]
  },
  {
   "cell_type": "code",
   "execution_count": 19,
   "metadata": {},
   "outputs": [
    {
     "name": "stdout",
     "output_type": "stream",
     "text": [
      "Adding some guy with a mustache to the queue!\n",
      "Removing some guy with a mustache from the queue!\n"
     ]
    },
    {
     "data": {
      "text/plain": [
       "'some guy with a mustache'"
      ]
     },
     "execution_count": 19,
     "metadata": {},
     "output_type": "execute_result"
    }
   ],
   "source": [
    "class Queue:\n",
    "  def __init__(self, max_size=None):\n",
    "    self.head = None\n",
    "    self.tail = None\n",
    "    self.max_size = max_size\n",
    "    self.size = 0\n",
    "    \n",
    "  def enqueue(self, value):\n",
    "    if self.has_space():\n",
    "      item_to_add = Node(value)\n",
    "      print(\"Adding \" + str(item_to_add.get_value()) + \" to the queue!\")\n",
    "      if self.is_empty():\n",
    "        self.head = item_to_add\n",
    "        self.tail = item_to_add\n",
    "      else:\n",
    "        self.tail.set_next_node(item_to_add)\n",
    "        self.tail = item_to_add\n",
    "      self.size += 1\n",
    "    else:\n",
    "      print(\"Sorry, no more room!\")\n",
    "      \n",
    "  # Add your dequeue method below:    \n",
    "  def dequeue(self):\n",
    "    if self.get_size() > 0:\n",
    "      item_to_remove = self.head\n",
    "      print(\"Removing \" + str(item_to_remove.get_value()) + \" from the queue!\")\n",
    "      if self.get_size() == 1:\n",
    "        self.head = None\n",
    "        self.tail = None\n",
    "      else:\n",
    "        self.head = self.head.get_next_node()\n",
    "      self.size -= 1\n",
    "      return item_to_remove.get_value()\n",
    "    else:\n",
    "      print(\"This queue is totally empty!\")\n",
    "  \n",
    "  def peek(self):\n",
    "    if self.is_empty():\n",
    "      print(\"Nothing to see here!\")\n",
    "    else:\n",
    "      return self.head.get_value()\n",
    "  \n",
    "  def get_size(self):\n",
    "    return self.size\n",
    "  \n",
    "  def has_space(self):\n",
    "    if self.max_size == None:\n",
    "      return True\n",
    "    else:\n",
    "      return self.max_size > self.get_size()\n",
    "    \n",
    "  def is_empty(self):\n",
    "    return self.size == 0\n",
    "\n",
    "q = Queue()\n",
    "q.enqueue(\"some guy with a mustache\")\n",
    "q.dequeue()"
   ]
  },
  {
   "cell_type": "markdown",
   "metadata": {},
   "source": [
    "# Stack "
   ]
  },
  {
   "cell_type": "markdown",
   "metadata": {},
   "source": [
    "A stack is a data structure which contains an ordered set of data.\n",
    "\n",
    "Stacks provide three methods for interaction:\n",
    "\n",
    "* Push - adds data to the “top” of the stack\n",
    "* Pop - returns and removes data from the “top” of the stack\n",
    "* Peek - returns data from the “top” of the stack without removing it\n",
    "\n",
    "Stacks can be implemented using a linked list as the underlying data structure because it’s more efficient than a list or array."
   ]
  },
  {
   "cell_type": "markdown",
   "metadata": {},
   "source": [
    "![alt text](imgs/stack.png \"Title\")"
   ]
  },
  {
   "cell_type": "code",
   "execution_count": 21,
   "metadata": {},
   "outputs": [
    {
     "name": "stdout",
     "output_type": "stream",
     "text": [
      "Adding pizza #1 to the pizza stack!\n",
      "Adding pizza #2 to the pizza stack!\n",
      "Adding pizza #3 to the pizza stack!\n",
      "Adding pizza #4 to the pizza stack!\n",
      "Adding pizza #5 to the pizza stack!\n",
      "Adding pizza #6 to the pizza stack!\n",
      "No room for pizza #7!\n",
      "The first pizza to deliver is pizza #6\n",
      "Delivering pizza #6\n"
     ]
    },
    {
     "data": {
      "text/plain": [
       "'pizza #6'"
      ]
     },
     "execution_count": 21,
     "metadata": {},
     "output_type": "execute_result"
    }
   ],
   "source": [
    "class Stack:\n",
    "  def __init__(self, limit=1000):\n",
    "    self.top_item = None\n",
    "    self.size = 0\n",
    "    self.limit = limit\n",
    "  \n",
    "  def push(self, value):\n",
    "    if self.has_space():\n",
    "      item = Node(value)\n",
    "      item.set_next_node(self.top_item)\n",
    "      self.top_item = item\n",
    "      self.size += 1\n",
    "      print(\"Adding {} to the pizza stack!\".format(value))\n",
    "    else:\n",
    "      print(\"No room for {}!\".format(value))\n",
    "\n",
    "  def pop(self):\n",
    "    if not self.is_empty():\n",
    "      item_to_remove = self.top_item\n",
    "      self.top_item = item_to_remove.get_next_node()\n",
    "      self.size -= 1\n",
    "      print(\"Delivering \" + item_to_remove.get_value())\n",
    "      return item_to_remove.get_value()\n",
    "    print(\"All out of pizza.\")\n",
    "\n",
    "  def peek(self):\n",
    "    if not self.is_empty():\n",
    "      return self.top_item.get_value()\n",
    "    print(\"Nothing to see here!\")\n",
    "\n",
    "  def has_space(self):\n",
    "    return self.limit > self.size\n",
    "\n",
    "  def is_empty(self):\n",
    "    return self.size == 0\n",
    "  \n",
    "# Defining an empty pizza stack\n",
    "pizza_stack = Stack(6)\n",
    "# Adding pizzas as they are ready until we have \n",
    "pizza_stack.push(\"pizza #1\")\n",
    "pizza_stack.push(\"pizza #2\")\n",
    "pizza_stack.push(\"pizza #3\")\n",
    "pizza_stack.push(\"pizza #4\")\n",
    "pizza_stack.push(\"pizza #5\")\n",
    "pizza_stack.push(\"pizza #6\")\n",
    "\n",
    "pizza_stack.push(\"pizza #7\")\n",
    "\n",
    "# Delivering pizzas from the top of the stack down\n",
    "print(\"The first pizza to deliver is \" + pizza_stack.peek())\n",
    "pizza_stack.pop()"
   ]
  },
  {
   "cell_type": "markdown",
   "metadata": {},
   "source": [
    "## Hash Map"
   ]
  },
  {
   "cell_type": "markdown",
   "metadata": {},
   "source": [
    "Suppose we want to design a system for storing employee records keyed using phone numbers. And we want following queries to be performed efficiently: \n",
    " \n",
    "\n",
    "* Insert a phone number and corresponding information.\n",
    "* Search a phone number and fetch the information.\n",
    "* Delete a phone number and related information.\n",
    "\n",
    "We can think of using the following data structures to maintain information about different phone numbers. \n",
    " \n",
    "\n",
    "* Array of phone numbers and records.\n",
    "* Linked List of phone numbers and records.\n",
    "* Balanced binary search tree with phone numbers as keys.\n",
    "* Direct Access Table.\n",
    "\n",
    "For arrays and linked lists, we need to search in a linear fashion, which can be costly in practice. If we use arrays and keep the data sorted, then a phone number can be searched in O(Logn) time using Binary Search, but insert and delete operations become costly as we have to maintain sorted order. \n",
    " \n",
    "\n",
    " \n",
    "With balanced binary search tree, we get moderate search, insert and delete times. All of these operations can be guaranteed to be in O(Logn) time. \n",
    "\n",
    "Another solution that one can think of is to use a direct access table where we make a big array and use phone numbers as index in the array. An entry in array is NIL if phone number is not present, else the array entry stores pointer to records corresponding to phone number. Time complexity wise this solution is the best among all, we can do all operations in O(1) time. For example to insert a phone number, we create a record with details of given phone number, use phone number as index and store the pointer to the created record in table. \n",
    "This solution has many practical limitations. First problem with this solution is extra space required is huge. For example if phone number is n digits, we need O(m * 10n) space for table where m is size of a pointer to record. Another problem is an integer in a programming language may not store n digits. \n",
    "\n",
    "Due to above limitations Direct Access Table cannot always be used. Hashing is the solution that can be used in almost all such situations and performs extremely well compared to above data structures like Array, Linked List, Balanced BST in practice. With hashing we get O(1) search time on average (under reasonable assumptions) and O(n) in worst case. \n",
    "\n",
    "Hashing is an improvement over Direct Access Table. The idea is to use hash function that converts a given phone number or any other key to a smaller number and uses the small number as index in a table called hash table. \n",
    "\n",
    "> Hash Function: A function that converts a given big phone number to a small practical integer value. The mapped integer value is used as an index in hash table. In simple terms, a hash function maps a big number or string to a small integer that can be used as index in hash table. \n",
    "A good hash function should have following properties \n",
    "\n",
    "  1. Efficiently computable. \n",
    "  \n",
    "  2. Should uniformly distribute the keys (Each table position equally likely for each key) \n",
    "\n",
    "For example for phone numbers a bad hash function is to take first three digits. A better function is consider last three digits. Please note that this may not be the best hash function. There may be better ways. \n",
    "\n",
    "> Hash Table: An array that stores pointers to records corresponding to a given phone number. An entry in hash table is NIL if no existing phone number has hash function value equal to the index for the entry. \n",
    "\n",
    "> Collision Handling: Since a hash function gets us a small number for a big key, there is possibility that two keys result in same value. The situation where a newly inserted key maps to an already occupied slot in hash table is called collision and must be handled using some collision handling technique. Following are the ways to handle collisions: \n",
    " \n",
    "\n",
    "* Chaining:The idea is to make each cell of hash table point to a linked list of records that have same hash function value. Chaining is simple, but requires additional memory outside the table.\n",
    "* Open Addressing: In open addressing, all elements are stored in the hash table itself. Each table entry contains either a record or NIL. When searching for an element, we examine the table slots one by one until the desired element is found or it is clear that the element is not in the table."
   ]
  },
  {
   "cell_type": "markdown",
   "metadata": {},
   "source": [
    "Remember hash functions are designed to compress data from a large number of possible keys to a much smaller range. Because of this compression, it’s likely that our hash function might produce the same hash for two different keys. This is known as a hash collision"
   ]
  },
  {
   "cell_type": "markdown",
   "metadata": {},
   "source": [
    "####  Separete Chaining"
   ]
  },
  {
   "cell_type": "markdown",
   "metadata": {},
   "source": [
    "![alt text](imgs/chaining.png \"Separete Chaining\")"
   ]
  },
  {
   "cell_type": "markdown",
   "metadata": {},
   "source": [
    "####  Saving Keys"
   ]
  },
  {
   "cell_type": "markdown",
   "metadata": {},
   "source": [
    "![alt text](imgs/keys.png \"Saving Keys\")"
   ]
  },
  {
   "cell_type": "markdown",
   "metadata": {},
   "source": [
    "####  Open Addressing"
   ]
  },
  {
   "cell_type": "markdown",
   "metadata": {},
   "source": [
    "![alt text](imgs/open_addressing.png \"Open Addressing\")"
   ]
  },
  {
   "cell_type": "markdown",
   "metadata": {},
   "source": [
    "#### Clustering"
   ]
  },
  {
   "cell_type": "markdown",
   "metadata": {},
   "source": [
    "Clustering is what happens when a single hash collision causes additional hash collisions. Imagine a hash collision triggers a linear probing sequence to assigns a value to the next hash bucket over. Any key that would hash to this “next bucket” will now collide with a key that, in a sense, doesn’t belong to that bucket anyway.\n",
    "\n",
    "As a result the new key needs to be assigned to the next, next bucket over. This propagates the problem because now there are two hash buckets taken up by key-value pairs that were assigned as a result of a hash collision, displacing further pairs of information we might want to save to the table."
   ]
  },
  {
   "cell_type": "markdown",
   "metadata": {},
   "source": [
    "![alt text](imgs/clustering.png \"Clustering\")"
   ]
  },
  {
   "cell_type": "markdown",
   "metadata": {},
   "source": [
    "### Review\n",
    "\n",
    "A hash map is:\n",
    "\n",
    "* Built on top of an array using a special indexing system.\n",
    "* A key-value storage with fast assignments and lookup.\n",
    "* A table that represents a map from a set of keys to a set of values.\n",
    "\n",
    "Hash maps accomplish all this by using a hash function, which turns a key into an index into the underlying array.\n",
    "\n",
    "A hash collision is when a hash function returns the same index for two different keys.\n",
    "\n",
    "There are different hash collision strategies. Two important ones are separate chaining, where each array index points to a different data structure, and open addressing, where a collision triggers a probing sequence to find where to store the value for a given key."
   ]
  },
  {
   "cell_type": "markdown",
   "metadata": {},
   "source": [
    "## HASH MAPS, python implemetation:"
   ]
  },
  {
   "cell_type": "markdown",
   "metadata": {},
   "source": [
    "this is example of how encode() works. We will use it later for hash function "
   ]
  },
  {
   "cell_type": "code",
   "execution_count": 9,
   "metadata": {},
   "outputs": [],
   "source": [
    "key = \"some_data\""
   ]
  },
  {
   "cell_type": "code",
   "execution_count": 15,
   "metadata": {},
   "outputs": [
    {
     "name": "stdout",
     "output_type": "stream",
     "text": [
      "115\n",
      "111\n",
      "109\n",
      "101\n",
      "95\n",
      "100\n",
      "97\n",
      "116\n",
      "97\n"
     ]
    }
   ],
   "source": [
    "for i in key.encode():\n",
    "    print(i)\n"
   ]
  },
  {
   "cell_type": "code",
   "execution_count": 16,
   "metadata": {},
   "outputs": [
    {
     "name": "stdout",
     "output_type": "stream",
     "text": [
      "igneous\n",
      "sedimentary\n",
      "metamorphic\n"
     ]
    }
   ],
   "source": [
    "class HashMap:\n",
    "  def __init__(self, array_size):\n",
    "    self.array_size = array_size\n",
    "    self.array = [None for item in range(array_size)]\n",
    "\n",
    "  def hash(self, key, count_collisions=0):\n",
    "    key_bytes = key.encode()\n",
    "    hash_code = sum(key_bytes)\n",
    "    return hash_code + count_collisions\n",
    "\n",
    "  def compressor(self, hash_code):\n",
    "    return hash_code % self.array_size\n",
    "\n",
    "  def assign(self, key, value):\n",
    "    array_index = self.compressor(self.hash(key))\n",
    "    current_array_value = self.array[array_index]\n",
    "\n",
    "    if current_array_value is None:\n",
    "      self.array[array_index] = [key, value]\n",
    "      return\n",
    "\n",
    "    if current_array_value[0] == key:\n",
    "      self.array[array_index] = [key, value]\n",
    "      return\n",
    "\n",
    "    # Collision!\n",
    "\n",
    "    number_collisions = 1\n",
    "\n",
    "    while(current_array_value[0] != key):\n",
    "      new_hash_code = self.hash(key, number_collisions)\n",
    "      new_array_index = self.compressor(new_hash_code)\n",
    "      current_array_value = self.array[new_array_index]\n",
    "\n",
    "      if current_array_value is None:\n",
    "        self.array[new_array_index] = [key, value]\n",
    "        return\n",
    "\n",
    "      if current_array_value[0] == key:\n",
    "        self.array[new_array_index] = [key, value]\n",
    "        return\n",
    "\n",
    "      number_collisions += 1\n",
    "\n",
    "    return\n",
    "\n",
    "  def retrieve(self, key):\n",
    "    array_index = self.compressor(self.hash(key))\n",
    "    possible_return_value = self.array[array_index]\n",
    "\n",
    "    if possible_return_value is None:\n",
    "      return None\n",
    "\n",
    "    if possible_return_value[0] == key:\n",
    "      return possible_return_value[1]\n",
    "\n",
    "    retrieval_collisions = 1\n",
    "\n",
    "    while (possible_return_value != key):\n",
    "      new_hash_code = self.hash(key, retrieval_collisions)\n",
    "      retrieving_array_index = self.compressor(new_hash_code)\n",
    "      possible_return_value = self.array[retrieving_array_index]\n",
    "\n",
    "      if possible_return_value is None:\n",
    "        return None\n",
    "\n",
    "      if possible_return_value[0] == key:\n",
    "        return possible_return_value[1]\n",
    "\n",
    "      number_collisions += 1\n",
    "\n",
    "    return\n",
    "\n",
    "hash_map = HashMap(15)\n",
    "hash_map.assign('gabbro', 'igneous')\n",
    "hash_map.assign('sandstone', 'sedimentary')\n",
    "hash_map.assign('gneiss', 'metamorphic')\n",
    "print(hash_map.retrieve('gabbro'))\n",
    "print(hash_map.retrieve('sandstone'))\n",
    "print(hash_map.retrieve('gneiss'))"
   ]
  },
  {
   "cell_type": "markdown",
   "metadata": {},
   "source": [
    "## Recursive example "
   ]
  },
  {
   "cell_type": "markdown",
   "metadata": {},
   "source": [
    "> factorial "
   ]
  },
  {
   "cell_type": "code",
   "execution_count": 19,
   "metadata": {},
   "outputs": [],
   "source": [
    "def factorial(n):\n",
    "  if n == 1:\n",
    "    return n\n",
    "  return n * factorial(n-1)"
   ]
  },
  {
   "cell_type": "code",
   "execution_count": 20,
   "metadata": {},
   "outputs": [
    {
     "data": {
      "text/plain": [
       "479001600"
      ]
     },
     "execution_count": 20,
     "metadata": {},
     "output_type": "execute_result"
    }
   ],
   "source": [
    "factorial(12)"
   ]
  },
  {
   "cell_type": "code",
   "execution_count": 21,
   "metadata": {},
   "outputs": [
    {
     "data": {
      "text/plain": [
       "True"
      ]
     },
     "execution_count": 21,
     "metadata": {},
     "output_type": "execute_result"
    }
   ],
   "source": [
    "isinstance(5, int)"
   ]
  },
  {
   "cell_type": "code",
   "execution_count": 22,
   "metadata": {},
   "outputs": [
    {
     "data": {
      "text/plain": [
       "True"
      ]
     },
     "execution_count": 22,
     "metadata": {},
     "output_type": "execute_result"
    }
   ],
   "source": [
    "isinstance([5, \"1\"], list)"
   ]
  },
  {
   "cell_type": "code",
   "execution_count": 23,
   "metadata": {},
   "outputs": [
    {
     "data": {
      "text/plain": [
       "False"
      ]
     },
     "execution_count": 23,
     "metadata": {},
     "output_type": "execute_result"
    }
   ],
   "source": [
    "isinstance(\"ABC\", tuple)"
   ]
  },
  {
   "cell_type": "markdown",
   "metadata": {},
   "source": [
    "> flatten func using recursive:"
   ]
  },
  {
   "cell_type": "code",
   "execution_count": 26,
   "metadata": {},
   "outputs": [
    {
     "name": "stdout",
     "output_type": "stream",
     "text": [
      "['mercury', 'venus', 'earth', 'mars', 'jupiter', 'saturn', 'uranus', 'neptune', 'pluto']\n"
     ]
    }
   ],
   "source": [
    "def flatten(my_list):\n",
    "  result = []\n",
    "  for el in my_list:\n",
    "    if isinstance(el, list):\n",
    "      flat_list = flatten(el)\n",
    "      result += flat_list\n",
    "    else:\n",
    "      result.append(el)\n",
    "  return result\n",
    "\n",
    "\n",
    "planets = ['mercury', 'venus', ['earth'], 'mars', [['jupiter', 'saturn']], 'uranus', ['neptune', 'pluto']]\n",
    "print(flatten(planets))"
   ]
  },
  {
   "cell_type": "markdown",
   "metadata": {},
   "source": [
    "> fibonacci"
   ]
  },
  {
   "cell_type": "code",
   "execution_count": 27,
   "metadata": {},
   "outputs": [
    {
     "name": "stdout",
     "output_type": "stream",
     "text": [
      "Recursive call with 5 as input\n",
      "Recursive call with 4 as input\n",
      "Recursive call with 3 as input\n",
      "Recursive call with 2 as input\n",
      "Recursive call with 2 as input\n",
      "Recursive call with 3 as input\n",
      "Recursive call with 2 as input\n"
     ]
    },
    {
     "data": {
      "text/plain": [
       "5"
      ]
     },
     "execution_count": 27,
     "metadata": {},
     "output_type": "execute_result"
    }
   ],
   "source": [
    "def fibonacci(n):\n",
    "  # base cases\n",
    "  if n == 1:\n",
    "    return n\n",
    "  if n == 0:\n",
    "    return n\n",
    "  \n",
    "  # recursive step\n",
    "  print(\"Recursive call with {0} as input\".format(n))\n",
    "  return fibonacci(n - 1) + fibonacci(n - 2)\n",
    "\n",
    "\n",
    "fibonacci(5)"
   ]
  },
  {
   "cell_type": "markdown",
   "metadata": {},
   "source": [
    "> recursive Binary Search Tree"
   ]
  },
  {
   "cell_type": "code",
   "execution_count": 32,
   "metadata": {},
   "outputs": [],
   "source": [
    "from pprint import pprint"
   ]
  },
  {
   "cell_type": "code",
   "execution_count": 33,
   "metadata": {},
   "outputs": [
    {
     "name": "stdout",
     "output_type": "stream",
     "text": [
      "Middle index: 2\n",
      "Middle value: 14\n",
      "Middle index: 1\n",
      "Middle value: 13\n",
      "Middle index: 0\n",
      "Middle value: 12\n",
      "Middle index: 1\n",
      "Middle value: 16\n",
      "Middle index: 0\n",
      "Middle value: 15\n",
      "{'data': 14,\n",
      " 'left_child': {'data': 13,\n",
      "                'left_child': {'data': 12,\n",
      "                               'left_child': 'No Child',\n",
      "                               'right_child': 'No Child'},\n",
      "                'right_child': 'No Child'},\n",
      " 'right_child': {'data': 16,\n",
      "                 'left_child': {'data': 15,\n",
      "                                'left_child': 'No Child',\n",
      "                                'right_child': 'No Child'},\n",
      "                 'right_child': 'No Child'}}\n"
     ]
    }
   ],
   "source": [
    "def build_bst(my_list):\n",
    "  if len(my_list) == 0:\n",
    "    return \"No Child\"\n",
    "\n",
    "  middle_idx = len(my_list) // 2\n",
    "  middle_value = my_list[middle_idx]\n",
    "  \n",
    "  print(\"Middle index: {0}\".format(middle_idx))\n",
    "  print(\"Middle value: {0}\".format(middle_value))\n",
    "  \n",
    "  tree_node = {\"data\": middle_value}\n",
    "  tree_node[\"left_child\"] = build_bst(my_list[ : middle_idx])\n",
    "  tree_node[\"right_child\"] = build_bst(my_list[middle_idx + 1 : ])\n",
    "\n",
    "  return tree_node\n",
    "  \n",
    "sorted_list = [12, 13, 14, 15, 16]\n",
    "binary_search_tree = build_bst(sorted_list)\n",
    "pprint(binary_search_tree)\n",
    "\n",
    "# fill in the runtime as a string\n",
    "# 1, logN, N, N*logN, N^2, 2^N, N!\n",
    "runtime = \"N*logN\""
   ]
  },
  {
   "cell_type": "markdown",
   "metadata": {},
   "source": [
    "> sum of individual digits "
   ]
  },
  {
   "cell_type": "code",
   "execution_count": 40,
   "metadata": {},
   "outputs": [],
   "source": [
    "def sum_digits(n):\n",
    "  if n < 10:\n",
    "    return n\n",
    "  else:\n",
    "    last_digit = n % 10\n",
    "    return last_digit + sum_digits(n//10)"
   ]
  },
  {
   "cell_type": "code",
   "execution_count": 41,
   "metadata": {},
   "outputs": [
    {
     "data": {
      "text/plain": [
       "3"
      ]
     },
     "execution_count": 41,
     "metadata": {},
     "output_type": "execute_result"
    }
   ],
   "source": [
    "sum_digits(12)"
   ]
  },
  {
   "cell_type": "code",
   "execution_count": 43,
   "metadata": {},
   "outputs": [
    {
     "data": {
      "text/plain": [
       "14"
      ]
     },
     "execution_count": 43,
     "metadata": {},
     "output_type": "execute_result"
    }
   ],
   "source": [
    "sum_digits(1229)"
   ]
  },
  {
   "cell_type": "markdown",
   "metadata": {},
   "source": [
    "## Traversing Linked List"
   ]
  },
  {
   "cell_type": "code",
   "execution_count": 53,
   "metadata": {},
   "outputs": [],
   "source": [
    "# that should be not a function but a method inside the node class"
   ]
  },
  {
   "cell_type": "markdown",
   "metadata": {},
   "source": [
    "> ITERATIVE "
   ]
  },
  {
   "cell_type": "code",
   "execution_count": 51,
   "metadata": {},
   "outputs": [],
   "source": [
    "\n",
    "def find_node_iteratively(self, value):\n",
    "  current_node = self.head_node\n",
    " \n",
    "  while current_node:\n",
    "    if current_node.value == value:\n",
    "      return current_node\n",
    "    current_node = current_node.get_next_node()\n",
    " \n",
    "  return None"
   ]
  },
  {
   "cell_type": "markdown",
   "metadata": {},
   "source": [
    "> RECURSIVE\n",
    "\n",
    "* Base case 1 – return None if the end of the linked list is reached.\n",
    "* Base case 2 – return the current node if it matches the value argument.\n",
    "* Recursive Case – return a call to .find_node_recursively() with the value and the next node as arguments."
   ]
  },
  {
   "cell_type": "code",
   "execution_count": 52,
   "metadata": {},
   "outputs": [],
   "source": [
    "def find_node_recursively(self, value, current_node):\n",
    "    if current_node == None:\n",
    "      return None\n",
    "    elif current_node.value == value:\n",
    "      return current_node\n",
    "    else:\n",
    "      return self.find_node_recursively(value, current_node.get_next_node())"
   ]
  },
  {
   "cell_type": "markdown",
   "metadata": {},
   "source": [
    "## Trees"
   ]
  },
  {
   "cell_type": "markdown",
   "metadata": {},
   "source": [
    "Trees are useful for modeling data that has a hierarchical relationship which moves in the direction from parent to child. No child node will have more than one parent.\n",
    "\n",
    "To recap some terms:\n",
    "\n",
    "**root**: A node which has no parent. One per tree.  \n",
    "**parent**: A node which references other nodes.<br/>\n",
    "**child**: Nodes referenced by other nodes.<br/>\n",
    "**sibling**: Nodes which have the same parent.<br/>\n",
    "**leaf**: Nodes which have no children.<br/>\n",
    "**level**: The height or depth of the tree. Root nodes are at level 1, their children are at level 2, and so on.\n",
    "\n",
    "**Trees are a Python class called TreeNode.**"
   ]
  },
  {
   "cell_type": "markdown",
   "metadata": {},
   "source": [
    "![alt text](imgs/tree.png \"Tree\")"
   ]
  },
  {
   "cell_type": "code",
   "execution_count": 56,
   "metadata": {},
   "outputs": [],
   "source": [
    "class TreeNode:\n",
    "  def __init__(self, value):\n",
    "    self.value = value # data\n",
    "    self.children = [] # references to other nodes\n",
    "\n",
    "  def add_child(self, child_node):\n",
    "    # creates parent-child relationship\n",
    "    print(\"Adding \" + child_node.value)\n",
    "    self.children.append(child_node) \n",
    "    \n",
    "  def remove_child(self, child_node):\n",
    "    # removes parent-child relationship\n",
    "    print(\"Removing \" + child_node.value + \" from \" + self.value)\n",
    "    self.children = [child for child in self.children \n",
    "                     if child is not child_node]\n",
    "\n",
    "  def traverse(self):\n",
    "    # moves through each node referenced from self downwards\n",
    "    nodes_to_visit = [self]\n",
    "    while len(nodes_to_visit) > 0:\n",
    "      current_node = nodes_to_visit.pop()\n",
    "      print(current_node.value)\n",
    "      nodes_to_visit += current_node.children\n"
   ]
  },
  {
   "cell_type": "markdown",
   "metadata": {},
   "source": [
    "## Binary Search Trees"
   ]
  },
  {
   "cell_type": "markdown",
   "metadata": {},
   "source": [
    "* BinarySearchTree class containing value, depth, and left and right child nodes.  \n",
    "* .insert() method to place a node of a specified value at the correct location in the Binary Search Tree. The time efficiency of this operation is O(logN) for a balanced tree - if there are N nodes in the BST, the max depth of a balanced tree is log(N). So, this method makes at most log(N) value comparisons. In the worst case of an imbalanced tree (all values on one side), the performance would be O(N).  \n",
    "* .get_node_by_value() method to retrieve a node in the tree by its value. The time efficiency of this operation is also O(logN) for a balanced tree - if there are N nodes in the BST, the max depth of the tree is log(N), so this method makes at most log(N) value comparisons. In the worst case of an imbalanced tree (all values on one side), the performance would be O(N).  \n",
    "* .depth_first_traversal() method to print the inorder traversal of the Binary Search Tree. This visits every single node, so if there are N nodes, the time efficiency for traversal is O(N).  \n",
    "  \n",
    "The Binary Search Tree is a dynamic data structure that provides efficient insertion and searching of data. It has the benefit of being easily expandable while maintaining a sorted order of the data. In more complex implementations, we could include:\n",
    "\n",
    "* .delete() method\n",
    "*  self-balancing feature as data is inserted that maintains that two sides of the tree are even, guaranteeing a max depth of log(N)"
   ]
  },
  {
   "cell_type": "markdown",
   "metadata": {},
   "source": [
    "![alt text](imgs/bst.png \"Tree\")"
   ]
  },
  {
   "cell_type": "code",
   "execution_count": 58,
   "metadata": {},
   "outputs": [
    {
     "name": "stdout",
     "output_type": "stream",
     "text": [
      "Creating Binary Search Tree rooted at value 15:\n",
      "Tree node 32 added to the right of 15 at depth 2\n",
      "Tree node 31 added to the left of 32 at depth 3\n",
      "Tree node 74 added to the right of 32 at depth 3\n",
      "Tree node 5 added to the left of 15 at depth 2\n",
      "Tree node 63 added to the left of 74 at depth 4\n",
      "Tree node 41 added to the left of 63 at depth 5\n",
      "Tree node 32 added to the left of 41 at depth 6\n",
      "Tree node 41 added to the right of 41 at depth 6\n",
      "Tree node 82 added to the right of 74 at depth 4\n",
      "Tree node 17 added to the left of 31 at depth 4\n",
      "Printing the inorder depth-first traversal:\n",
      "Depth=2, Value=5\n",
      "Depth=1, Value=15\n",
      "Depth=4, Value=17\n",
      "Depth=3, Value=31\n",
      "Depth=2, Value=32\n",
      "Depth=6, Value=32\n",
      "Depth=5, Value=41\n",
      "Depth=6, Value=41\n",
      "Depth=4, Value=63\n",
      "Depth=3, Value=74\n",
      "Depth=4, Value=82\n"
     ]
    }
   ],
   "source": [
    "import random\n",
    "\n",
    "class BinarySearchTree:\n",
    "  def __init__(self, value, depth=1):\n",
    "    self.value = value\n",
    "    self.depth = depth\n",
    "    self.left = None\n",
    "    self.right = None\n",
    "\n",
    "  def insert(self, value):\n",
    "    if (value < self.value):\n",
    "      if (self.left is None):\n",
    "        self.left = BinarySearchTree(value, self.depth + 1)\n",
    "        print(f'Tree node {value} added to the left of {self.value} at depth {self.depth + 1}')\n",
    "      else:\n",
    "        self.left.insert(value)\n",
    "    else:\n",
    "      if (self.right is None):\n",
    "        self.right = BinarySearchTree(value, self.depth + 1)\n",
    "        print(f'Tree node {value} added to the right of {self.value} at depth {self.depth + 1}')\n",
    "      else:\n",
    "        self.right.insert(value)\n",
    "        \n",
    "  def get_node_by_value(self, value):\n",
    "    if (self.value == value):\n",
    "      return self\n",
    "    elif ((self.left is not None) and (value < self.value)):\n",
    "      return self.left.get_node_by_value(value)\n",
    "    elif ((self.right is not None) and (value >= self.value)):\n",
    "      return self.right.get_node_by_value(value)\n",
    "    else:\n",
    "      return None\n",
    "  \n",
    "  def depth_first_traversal(self):\n",
    "    if (self.left is not None):\n",
    "      self.left.depth_first_traversal()\n",
    "    print(f'Depth={self.depth}, Value={self.value}')\n",
    "    if (self.right is not None):\n",
    "      self.right.depth_first_traversal()\n",
    "\n",
    "\n",
    "print(\"Creating Binary Search Tree rooted at value 15:\")\n",
    "tree = BinarySearchTree(15)\n",
    "\n",
    "for x in range(10):\n",
    "  tree.insert(random.randint(0, 100))\n",
    "  \n",
    "print(\"Printing the inorder depth-first traversal:\")\n",
    "tree.depth_first_traversal()"
   ]
  },
  {
   "cell_type": "markdown",
   "metadata": {},
   "source": [
    "## Bubble Sort:  O(n^2)"
   ]
  },
  {
   "cell_type": "markdown",
   "metadata": {},
   "source": [
    "![](imgs/bubble_sort.png)"
   ]
  },
  {
   "cell_type": "code",
   "execution_count": 69,
   "metadata": {},
   "outputs": [
    {
     "name": "stdout",
     "output_type": "stream",
     "text": [
      "Default list: [9, 8, 7, 6, 5, 4, 3, 2, 1]\n",
      "Sorted list: [1, 2, 3, 4, 5, 6, 7, 8, 9]\n"
     ]
    }
   ],
   "source": [
    "nums = [9, 8, 7, 6, 5, 4, 3, 2, 1]\n",
    "print(f\"Default list: {nums}\")\n",
    "\n",
    "\n",
    "def bubble_sort(arr):\n",
    "  for i in range(len(arr)):\n",
    "    # iterate through unplaced elements\n",
    "    for idx in range(len(arr) - i - 1):\n",
    "      if arr[idx] > arr[idx + 1]:\n",
    "        # replacement for swap function\n",
    "        arr[idx], arr[idx + 1] = arr[idx + 1], arr[idx]       \n",
    "\n",
    "bubble_sort(nums)\n",
    "print(f\"Sorted list: {nums}\")"
   ]
  },
  {
   "cell_type": "markdown",
   "metadata": {},
   "source": [
    "## Merge Sort (divide-and-conquer algorithm) :  O(N * log(N))"
   ]
  },
  {
   "cell_type": "markdown",
   "metadata": {},
   "source": [
    "![](imgs/merge_sort.png \"Merge Sort\")"
   ]
  },
  {
   "cell_type": "code",
   "execution_count": 10,
   "metadata": {},
   "outputs": [],
   "source": [
    "def merge_sort(items):\n",
    "  if len(items) <= 1:\n",
    "    return items\n",
    "\n",
    "  middle_index = len(items) // 2\n",
    "  left_split = items[:middle_index]\n",
    "  right_split = items[middle_index:]\n",
    "\n",
    "  left_sorted = merge_sort(left_split)\n",
    "  right_sorted = merge_sort(right_split)\n",
    "\n",
    "  return merge(left_sorted, right_sorted)\n",
    "\n",
    "def merge(left, right):\n",
    "  result = []\n",
    "\n",
    "  while (left and right):\n",
    "    if left[0] < right[0]:\n",
    "      result.append(left[0])\n",
    "      left.pop(0)\n",
    "    else:\n",
    "      result.append(right[0])\n",
    "      right.pop(0)\n",
    "\n",
    "  if left:\n",
    "    result += left\n",
    "  if right:\n",
    "    result += right\n",
    "\n",
    "  return result"
   ]
  },
  {
   "cell_type": "code",
   "execution_count": 12,
   "metadata": {},
   "outputs": [
    {
     "name": "stdout",
     "output_type": "stream",
     "text": [
      "[356, 746, 264, 569, 949, 895, 125, 455]  ==>  [125, 264, 356, 455, 569, 746, 895, 949]\n"
     ]
    }
   ],
   "source": [
    "unordered_list = [356, 746, 264, 569, 949, 895, 125, 455]\n",
    "\n",
    "ordered_list = merge_sort(unordered_list)\n",
    "\n",
    "print(f\"{unordered_list}  ==>  {ordered_list}\")"
   ]
  },
  {
   "cell_type": "markdown",
   "metadata": {},
   "source": [
    "## Quick Sort: O(N * log(N))"
   ]
  },
  {
   "cell_type": "markdown",
   "metadata": {},
   "source": [
    "Quicksort is an efficient algorithm for sorting values in a list. A single element, the pivot, is chosen from the list. All the remaining values are partitioned into two sub-lists containing the values smaller than and greater than the pivot element."
   ]
  },
  {
   "cell_type": "markdown",
   "metadata": {},
   "source": [
    "![](imgs/quick_sort.png)"
   ]
  },
  {
   "cell_type": "code",
   "execution_count": 36,
   "metadata": {},
   "outputs": [],
   "source": [
    "from random import randrange, shuffle\n",
    "\n",
    "def quicksort(lst, start, end):\n",
    "  # this portion of lst has been sorted\n",
    "  if start >= end:\n",
    "    return\n",
    "  print(f\"Running quicksort on {lst[start: end + 1]}\")\n",
    "  # select random element to be pivot\n",
    "  pivot_idx = randrange(start, end + 1)\n",
    "  pivot_element = lst[pivot_idx]\n",
    "  print(f\"Selected pivot {pivot_element}\")\n",
    "  # swap random element with last element in sub-lsts\n",
    "  lst[end], lst[pivot_idx] = lst[pivot_idx], lst[end]\n",
    "\n",
    "  # tracks all elements which should be to left (lesser than) pivot\n",
    "  less_than_pointer = start\n",
    "  \n",
    "  for i in range(start, end):\n",
    "    # we found an element out of place\n",
    "    if lst[i] < pivot_element:\n",
    "      # swap element to the right-most portion of lesser elements\n",
    "      print(f\"Swapping {lst[i]} with {pivot_element}\")\n",
    "      lst[i], lst[less_than_pointer] = lst[less_than_pointer], lst[i]\n",
    "      # tally that we have one more lesser element\n",
    "      less_than_pointer += 1\n",
    "  # move pivot element to the right-most portion of lesser elements\n",
    "  lst[end], lst[less_than_pointer] = lst[less_than_pointer], lst[end]\n",
    "  print(\"f{lst[start: end + 1]} successfully partitioned\")\n",
    "  # recursively sort left and right sub-lsts\n",
    "  quicksort(lst, start, less_than_pointer - 1)\n",
    "  quicksort(lst, less_than_pointer + 1, end)"
   ]
  },
  {
   "cell_type": "code",
   "execution_count": 37,
   "metadata": {},
   "outputs": [
    {
     "name": "stdout",
     "output_type": "stream",
     "text": [
      "PRE SORT:  [2, 1, 7, 4, 3, 6, 5, 8]\n",
      "Running quicksort on [1, 2, 3, 4, 5, 6, 7, 8]\n",
      "Selected pivot 7\n",
      "Swapping 1 with 7\n",
      "Swapping 2 with 7\n",
      "Swapping 3 with 7\n",
      "Swapping 4 with 7\n",
      "Swapping 5 with 7\n",
      "Swapping 6 with 7\n",
      "f{lst[start: end + 1]} successfully partitioned\n",
      "Running quicksort on [1, 2, 3, 4, 5, 6]\n",
      "Selected pivot 6\n",
      "Swapping 1 with 6\n",
      "Swapping 2 with 6\n",
      "Swapping 3 with 6\n",
      "Swapping 4 with 6\n",
      "Swapping 5 with 6\n",
      "f{lst[start: end + 1]} successfully partitioned\n",
      "Running quicksort on [1, 2, 3, 4, 5]\n",
      "Selected pivot 1\n",
      "f{lst[start: end + 1]} successfully partitioned\n",
      "Running quicksort on [2, 3, 4, 5]\n",
      "Selected pivot 4\n",
      "Swapping 2 with 4\n",
      "Swapping 3 with 4\n",
      "f{lst[start: end + 1]} successfully partitioned\n",
      "Running quicksort on [2, 3]\n",
      "Selected pivot 3\n",
      "Swapping 2 with 3\n",
      "f{lst[start: end + 1]} successfully partitioned\n",
      "None\n",
      "POST SORT:  [2, 1, 7, 4, 3, 6, 5, 8]\n"
     ]
    }
   ],
   "source": [
    "lst = [5,3,1,7,4,6,2,8]\n",
    "shuffle(lst)\n",
    "print(\"PRE SORT: \", lst)\n",
    "print(quicksort(list, 0, len(lst) -1))\n",
    "print(\"POST SORT: \", lst)"
   ]
  },
  {
   "cell_type": "markdown",
   "metadata": {},
   "source": [
    "## Radix Sort: O(N)"
   ]
  },
  {
   "cell_type": "markdown",
   "metadata": {},
   "source": [
    "* A radix is the base of a number system. For the decimal number system, the radix is 10.\n",
    "* Radix sort has two variants - MSD (most significant digit) and LSD (least significant digit)\n",
    "* Numbers are bucketed based on the value of digits moving left to right (for MSD) or right to left (for LSD)\n",
    "* Radix sort is considered a non-comparison sort"
   ]
  },
  {
   "cell_type": "code",
   "execution_count": null,
   "metadata": {},
   "outputs": [],
   "source": [
    "# consider the one's place"
   ]
  },
  {
   "cell_type": "markdown",
   "metadata": {},
   "source": [
    "![](imgs/radix_0.png)"
   ]
  },
  {
   "cell_type": "code",
   "execution_count": null,
   "metadata": {},
   "outputs": [],
   "source": [
    "# consider the 10's place"
   ]
  },
  {
   "cell_type": "markdown",
   "metadata": {},
   "source": [
    "![](imgs/radix_1.png)"
   ]
  },
  {
   "cell_type": "code",
   "execution_count": null,
   "metadata": {},
   "outputs": [],
   "source": [
    "# consider the 100's place"
   ]
  },
  {
   "cell_type": "markdown",
   "metadata": {},
   "source": [
    "![](imgs/radix_2.png)"
   ]
  },
  {
   "cell_type": "code",
   "execution_count": null,
   "metadata": {},
   "outputs": [],
   "source": []
  },
  {
   "cell_type": "markdown",
   "metadata": {},
   "source": [
    "![](imgs/radix_3.png)"
   ]
  },
  {
   "cell_type": "code",
   "execution_count": null,
   "metadata": {},
   "outputs": [],
   "source": []
  }
 ],
 "metadata": {
  "kernelspec": {
   "display_name": "Python 3",
   "language": "python",
   "name": "python3"
  },
  "language_info": {
   "codemirror_mode": {
    "name": "ipython",
    "version": 3
   },
   "file_extension": ".py",
   "mimetype": "text/x-python",
   "name": "python",
   "nbconvert_exporter": "python",
   "pygments_lexer": "ipython3",
   "version": "3.8.6"
  }
 },
 "nbformat": 4,
 "nbformat_minor": 4
}
